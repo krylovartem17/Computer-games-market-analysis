{
 "cells": [
  {
   "cell_type": "markdown",
   "id": "2adb95a0",
   "metadata": {},
   "source": [
    "<h1>Analysis of the computer games market. Forecasts for the next year</h1>"
   ]
  },
  {
   "cell_type": "markdown",
   "id": "b8a35077",
   "metadata": {},
   "source": [
    "<h2>Project Description</h2>\n"
   ]
  },
  {
   "cell_type": "markdown",
   "id": "06e70689",
   "metadata": {},
   "source": [
    "Online store \"Streamchick\", which sells computer games worldwide, plans to make a strategy for 2017. For this purpose, historical data on game sales, user and expert evaluations, genres and platforms were taken from open sources. I need to identify the patterns that determine the success of a game in order to bet on a potentially popular product and plan advertising campaigns."
   ]
  },
  {
   "cell_type": "markdown",
   "id": "d2316a97",
   "metadata": {},
   "source": [
    "<h2>Purpose of the study</h2>"
   ]
  },
  {
   "cell_type": "markdown",
   "id": "f0a44f22",
   "metadata": {},
   "source": [
    "The purpose of this study is to identify the patterns that determine the success of the game in order to predict a successful product and prepare a marketing plan"
   ]
  },
  {
   "cell_type": "markdown",
   "id": "0f4ad5de",
   "metadata": {},
   "source": [
    "<h2>Objectives of the study</h2>"
   ]
  },
  {
   "cell_type": "markdown",
   "id": "a2bd346b",
   "metadata": {},
   "source": [
    "1. Data preprocessing - we need to get rid of duplicates, correct anomalies and adjust data types - prepare the data for further work  \n",
    "2. exploratory analysis - to understand the main factors affecting game sales, as well as identifying the actual period, the data on which, will help us form assumptions about the following years  \n",
    "3. Creating a user portrait. Let's look at the top 5 platforms in all regions to better understand all types of audiences and make the right choices for next year.  \n",
    "4. Testing two hypotheses:  \n",
    "   4.1 The average user ratings of Xbox One and PC platforms are the same   \n",
    "   4.2 The average user ratings of Action and Sports genres are different  \n",
    "5. Summarizing, Conclusion and Forecast for 2017"
   ]
  },
  {
   "cell_type": "markdown",
   "id": "ff3f7313",
   "metadata": {},
   "source": [
    "<h2>Data description</h2>"
   ]
  },
  {
   "cell_type": "markdown",
   "id": "652f9634",
   "metadata": {},
   "source": [
    "Name - game name  \n",
    "Platform - platform  \n",
    "Year_of_Release - year of release  \n",
    "Genre - game genre  \n",
    "NA_sales - North American sales (millions of copies sold)  \n",
    "EU_sales - sales in Europe (millions of copies sold)  \n",
    "JP_sales - sales in Japan (millions of copies sold)  \n",
    "Other_sales - sales in other countries (millions of copies sold)  \n",
    "Critic_Score - critics' score (maximum 100)  \n",
    "User_Score - user rating (maximum 10)  \n",
    "Rating - rating from the organization ESRB (Entertainment Software Rating Board). This association determines the rating of computer games and assigns them a suitable age category."
   ]
  },
  {
   "cell_type": "markdown",
   "id": "ab99adb8",
   "metadata": {},
   "source": [
    "<h2>Project Plan</h2>"
   ]
  },
  {
   "cell_type": "markdown",
   "id": "11866670",
   "metadata": {},
   "source": [
    "**This study will be divided into several parts.**\n",
    "\n",
    "***Part 1: Importing Libraries:***\n",
    "* [1. Import all the libraries needed for the study](#import)\n",
    "\n",
    "***Part 2. Loading data and examining general information:***\n",
    "* [1. Upload CSV file](#upload)\n",
    "* [2. View general information.](#general)\n",
    "* [3. First 5 rows output](#first_rows)\n",
    "* [4. Intermediate output](#first_conclusion)\n",
    "\n",
    "***Part 3. Data preparation:***\n",
    "* [1. Upload CSV file](#upload)\n",
    "* [2. View general information](#general)\n",
    "* [3. First 5 rows output](#first_rows)\n",
    "* [4. Intermediate output](#second_conclusion)\n",
    "\n",
    "***Part 4. Data preprocessing:***\n",
    "* [1. Lowercase headers](#strlow)\n",
    "* [2. Data type conversion](#data_type)\n",
    "* [3. Duplicate processing](#duplicates)\n",
    "* [4. Handling misses](#missed)\n",
    "* [5. Check for misses](#check)\n",
    "* [6. Find total sales](#total_sales)\n",
    "* [7. Conclusion](#conclusion2)\n",
    "\n",
    "***Part 5. Exploratory Data Analysis:***\n",
    "* [1. Number of games released in each year.](#total_games)\n",
    "* [2. Sales variation for top platforms.](#change)\n",
    "* [3. Sales variance for top platforms](#boxplot)\n",
    "* [4. Impact of critic scores on sales for PS4](#critic_score)\n",
    "* [5. Impact of player ratings on PS4 sales](#user_score)\n",
    "* [6. Impact of critic scores on sales for other platforms](#critic_score_other)\n",
    "* [7. Impact of player ratings on sales for other platforms](#user_score_other)\n",
    "* [8. Game sales by genre](#genre_sales)\n",
    "* [9. User portraits](#user_portrait)\n",
    "* [10. Sales by genre](#top_genres)\n",
    "* [11. Sales by ESRB rating](#esrb)\n",
    "\n",
    "***Part 6. Hypotheses:***\n",
    "* [1. Average user ratings of Xbox One and PC platforms are the same](#h1)\n",
    "* [2. The average user ratings of Action and Sports genres are different](#h2).\n",
    "\n",
    "***Part 7. General Conclusion:***\n",
    "* [1. Data loading and preprocessing.](#preprocessing)\n",
    "* [2. Exploratory data analysis.](#research)\n",
    "* [3. Portraits of users by region.](#portrait)\n",
    "* [4. Hypothesis testing.](#hyp)\n",
    "* [5. Conclusion.](#final_concl)"
   ]
  },
  {
   "cell_type": "markdown",
   "id": "8edf6849",
   "metadata": {},
   "source": [
    " <a id = \"import\"></a>\n",
    " # Importing libraries"
   ]
  },
  {
   "cell_type": "code",
   "execution_count": 41,
   "id": "5e5347f6",
   "metadata": {},
   "outputs": [],
   "source": [
    "import pandas as pd\n",
    "import numpy as np\n",
    "import matplotlib.pyplot as plt\n",
    "import scipy"
   ]
  },
  {
   "cell_type": "markdown",
   "id": "8f651282",
   "metadata": {},
   "source": [
    "# Data loading"
   ]
  },
  {
   "cell_type": "markdown",
   "id": "fff89715",
   "metadata": {},
   "source": [
    "<a id = 'upload'> </a>\n",
    "## File loading"
   ]
  },
  {
   "cell_type": "code",
   "execution_count": 42,
   "id": "505f27c2",
   "metadata": {},
   "outputs": [],
   "source": [
    "try:\n",
    "    data = pd.read_csv('games.csv')\n",
    "except:\n",
    "    data = pd.read_csv('/datasets/games.csv')"
   ]
  },
  {
   "cell_type": "markdown",
   "id": "3c84931b",
   "metadata": {},
   "source": [
    "<a id = 'general'> </a>\n",
    "##  Study of general information"
   ]
  },
  {
   "cell_type": "code",
   "execution_count": 43,
   "id": "f7328e72",
   "metadata": {},
   "outputs": [
    {
     "name": "stdout",
     "output_type": "stream",
     "text": [
      "<class 'pandas.core.frame.DataFrame'>\n",
      "RangeIndex: 16715 entries, 0 to 16714\n",
      "Data columns (total 11 columns):\n",
      " #   Column           Non-Null Count  Dtype  \n",
      "---  ------           --------------  -----  \n",
      " 0   Name             16713 non-null  object \n",
      " 1   Platform         16715 non-null  object \n",
      " 2   Year_of_Release  16446 non-null  float64\n",
      " 3   Genre            16713 non-null  object \n",
      " 4   NA_sales         16715 non-null  float64\n",
      " 5   EU_sales         16715 non-null  float64\n",
      " 6   JP_sales         16715 non-null  float64\n",
      " 7   Other_sales      16715 non-null  float64\n",
      " 8   Critic_Score     8137 non-null   float64\n",
      " 9   User_Score       10014 non-null  object \n",
      " 10  Rating           9949 non-null   object \n",
      "dtypes: float64(6), object(5)\n",
      "memory usage: 1.4+ MB\n"
     ]
    }
   ],
   "source": [
    "data.info()"
   ]
  },
  {
   "cell_type": "markdown",
   "id": "3e5b760a",
   "metadata": {},
   "source": [
    "<a id = 'first_rows'> </a>\n",
    "##  Output first rows"
   ]
  },
  {
   "cell_type": "code",
   "execution_count": 44,
   "id": "3b6e0b20",
   "metadata": {},
   "outputs": [
    {
     "data": {
      "text/html": [
       "<div>\n",
       "<style scoped>\n",
       "    .dataframe tbody tr th:only-of-type {\n",
       "        vertical-align: middle;\n",
       "    }\n",
       "\n",
       "    .dataframe tbody tr th {\n",
       "        vertical-align: top;\n",
       "    }\n",
       "\n",
       "    .dataframe thead th {\n",
       "        text-align: right;\n",
       "    }\n",
       "</style>\n",
       "<table border=\"1\" class=\"dataframe\">\n",
       "  <thead>\n",
       "    <tr style=\"text-align: right;\">\n",
       "      <th></th>\n",
       "      <th>Name</th>\n",
       "      <th>Platform</th>\n",
       "      <th>Year_of_Release</th>\n",
       "      <th>Genre</th>\n",
       "      <th>NA_sales</th>\n",
       "      <th>EU_sales</th>\n",
       "      <th>JP_sales</th>\n",
       "      <th>Other_sales</th>\n",
       "      <th>Critic_Score</th>\n",
       "      <th>User_Score</th>\n",
       "      <th>Rating</th>\n",
       "    </tr>\n",
       "  </thead>\n",
       "  <tbody>\n",
       "    <tr>\n",
       "      <th>0</th>\n",
       "      <td>Wii Sports</td>\n",
       "      <td>Wii</td>\n",
       "      <td>2006.0</td>\n",
       "      <td>Sports</td>\n",
       "      <td>41.36</td>\n",
       "      <td>28.96</td>\n",
       "      <td>3.77</td>\n",
       "      <td>8.45</td>\n",
       "      <td>76.0</td>\n",
       "      <td>8</td>\n",
       "      <td>E</td>\n",
       "    </tr>\n",
       "    <tr>\n",
       "      <th>1</th>\n",
       "      <td>Super Mario Bros.</td>\n",
       "      <td>NES</td>\n",
       "      <td>1985.0</td>\n",
       "      <td>Platform</td>\n",
       "      <td>29.08</td>\n",
       "      <td>3.58</td>\n",
       "      <td>6.81</td>\n",
       "      <td>0.77</td>\n",
       "      <td>NaN</td>\n",
       "      <td>NaN</td>\n",
       "      <td>NaN</td>\n",
       "    </tr>\n",
       "    <tr>\n",
       "      <th>2</th>\n",
       "      <td>Mario Kart Wii</td>\n",
       "      <td>Wii</td>\n",
       "      <td>2008.0</td>\n",
       "      <td>Racing</td>\n",
       "      <td>15.68</td>\n",
       "      <td>12.76</td>\n",
       "      <td>3.79</td>\n",
       "      <td>3.29</td>\n",
       "      <td>82.0</td>\n",
       "      <td>8.3</td>\n",
       "      <td>E</td>\n",
       "    </tr>\n",
       "    <tr>\n",
       "      <th>3</th>\n",
       "      <td>Wii Sports Resort</td>\n",
       "      <td>Wii</td>\n",
       "      <td>2009.0</td>\n",
       "      <td>Sports</td>\n",
       "      <td>15.61</td>\n",
       "      <td>10.93</td>\n",
       "      <td>3.28</td>\n",
       "      <td>2.95</td>\n",
       "      <td>80.0</td>\n",
       "      <td>8</td>\n",
       "      <td>E</td>\n",
       "    </tr>\n",
       "    <tr>\n",
       "      <th>4</th>\n",
       "      <td>Pokemon Red/Pokemon Blue</td>\n",
       "      <td>GB</td>\n",
       "      <td>1996.0</td>\n",
       "      <td>Role-Playing</td>\n",
       "      <td>11.27</td>\n",
       "      <td>8.89</td>\n",
       "      <td>10.22</td>\n",
       "      <td>1.00</td>\n",
       "      <td>NaN</td>\n",
       "      <td>NaN</td>\n",
       "      <td>NaN</td>\n",
       "    </tr>\n",
       "  </tbody>\n",
       "</table>\n",
       "</div>"
      ],
      "text/plain": [
       "                       Name Platform  Year_of_Release         Genre  NA_sales  \\\n",
       "0                Wii Sports      Wii           2006.0        Sports     41.36   \n",
       "1         Super Mario Bros.      NES           1985.0      Platform     29.08   \n",
       "2            Mario Kart Wii      Wii           2008.0        Racing     15.68   \n",
       "3         Wii Sports Resort      Wii           2009.0        Sports     15.61   \n",
       "4  Pokemon Red/Pokemon Blue       GB           1996.0  Role-Playing     11.27   \n",
       "\n",
       "   EU_sales  JP_sales  Other_sales  Critic_Score User_Score Rating  \n",
       "0     28.96      3.77         8.45          76.0          8      E  \n",
       "1      3.58      6.81         0.77           NaN        NaN    NaN  \n",
       "2     12.76      3.79         3.29          82.0        8.3      E  \n",
       "3     10.93      3.28         2.95          80.0          8      E  \n",
       "4      8.89     10.22         1.00           NaN        NaN    NaN  "
      ]
     },
     "metadata": {},
     "output_type": "display_data"
    }
   ],
   "source": [
    "display(data.head())"
   ]
  },
  {
   "cell_type": "markdown",
   "id": "2a74c707",
   "metadata": {},
   "source": [
    "<a id = 'first_conclusion'> </a>\n",
    "Gaps are present and the data type needs to be corrected"
   ]
  },
  {
   "cell_type": "markdown",
   "id": "56c538f0",
   "metadata": {},
   "source": [
    "# Data preprocessing"
   ]
  },
  {
   "cell_type": "markdown",
   "id": "b366748b",
   "metadata": {},
   "source": [
    "<a id = 'strlow'> </a>\n",
    "## Lowercase all column headings"
   ]
  },
  {
   "cell_type": "code",
   "execution_count": 45,
   "id": "8a0de41f",
   "metadata": {},
   "outputs": [],
   "source": [
    "data.columns = data.columns.str.lower()"
   ]
  },
  {
   "cell_type": "markdown",
   "id": "215a774f",
   "metadata": {},
   "source": [
    "<a id = 'data_type'> </a>\n",
    "## Data type conversion"
   ]
  },
  {
   "cell_type": "markdown",
   "id": "86a7d5a5",
   "metadata": {},
   "source": [
    "### Changing data types"
   ]
  },
  {
   "cell_type": "markdown",
   "id": "97905dc3",
   "metadata": {},
   "source": [
    "#### Changing year_of_release (float to int)"
   ]
  },
  {
   "cell_type": "code",
   "execution_count": 46,
   "id": "877952f7",
   "metadata": {},
   "outputs": [],
   "source": [
    "data['year_of_release'].fillna(-1, inplace = True)\n",
    "data['year_of_release'] = data['year_of_release'].astype(int)"
   ]
  },
  {
   "cell_type": "markdown",
   "id": "9bfa156d",
   "metadata": {},
   "source": [
    "Year is an integer. The dataset initially defines the year data type as a real number => replace float with int"
   ]
  },
  {
   "cell_type": "markdown",
   "id": "1cd63b68",
   "metadata": {},
   "source": [
    "#### Changing user_score (object to float)"
   ]
  },
  {
   "cell_type": "code",
   "execution_count": 47,
   "id": "3bf5dbcd",
   "metadata": {},
   "outputs": [],
   "source": [
    "data.loc[data['user_score']=='tbd'] = np.nan\n",
    "data['user_score'] = data['user_score'].astype(float)"
   ]
  },
  {
   "cell_type": "markdown",
   "id": "900ea5fc",
   "metadata": {},
   "source": [
    "'tbd' - values that will be added in the future. At the moment of the study they are missing -> replace with nan and continue without them.   \n",
    "user_score represents the evaluation of users in real numbers -> data type object is not suitable in this case, replace with flaot"
   ]
  },
  {
   "cell_type": "markdown",
   "id": "417791e7",
   "metadata": {},
   "source": [
    "<a id = 'duplicates'> </a>\n",
    "## Duplicates"
   ]
  },
  {
   "cell_type": "markdown",
   "id": "1a5c2592",
   "metadata": {},
   "source": [
    "### Full duplicates"
   ]
  },
  {
   "cell_type": "markdown",
   "id": "8d2cc2c6",
   "metadata": {},
   "source": [
    "#### Duplicate search"
   ]
  },
  {
   "cell_type": "code",
   "execution_count": 48,
   "id": "0096eada",
   "metadata": {},
   "outputs": [
    {
     "name": "stdout",
     "output_type": "stream",
     "text": [
      "2423\n"
     ]
    }
   ],
   "source": [
    "print(data.duplicated().sum())"
   ]
  },
  {
   "cell_type": "markdown",
   "id": "7aa4c84f",
   "metadata": {},
   "source": [
    "#### Deleting duplicates"
   ]
  },
  {
   "cell_type": "code",
   "execution_count": 49,
   "id": "b4ea3637",
   "metadata": {},
   "outputs": [],
   "source": [
    "data = (data.drop_duplicates()).reset_index()"
   ]
  },
  {
   "cell_type": "markdown",
   "id": "594d1e28",
   "metadata": {},
   "source": [
    "#### Checking"
   ]
  },
  {
   "cell_type": "code",
   "execution_count": 50,
   "id": "356e0cfd",
   "metadata": {},
   "outputs": [
    {
     "name": "stdout",
     "output_type": "stream",
     "text": [
      "0\n"
     ]
    }
   ],
   "source": [
    "print(data.duplicated().sum())"
   ]
  },
  {
   "cell_type": "markdown",
   "id": "7b598f0f",
   "metadata": {},
   "source": [
    "All complete duplicates have been removed"
   ]
  },
  {
   "cell_type": "markdown",
   "id": "205eb7da",
   "metadata": {},
   "source": [
    "### Implicit duplicates"
   ]
  },
  {
   "cell_type": "markdown",
   "id": "a5b056e2",
   "metadata": {},
   "source": [
    "Implicit duplicates can be in the following columns:  \n",
    "    name  \n",
    "    platform  \n",
    "    genre  \n",
    "    rating  \n",
    "The remaining columns are numeric values, among which there can be no implicit duplicates"
   ]
  },
  {
   "cell_type": "code",
   "execution_count": 51,
   "id": "71e02710",
   "metadata": {},
   "outputs": [],
   "source": [
    "potential_duplicates = ['name', 'platform', 'genre', 'rating']"
   ]
  },
  {
   "cell_type": "markdown",
   "id": "d4812f64",
   "metadata": {},
   "source": [
    "No implicit duplicates detected - move on"
   ]
  },
  {
   "cell_type": "markdown",
   "id": "0c65b0f0",
   "metadata": {},
   "source": [
    "<a id = 'missed'> </a>\n",
    "## Pass processing"
   ]
  },
  {
   "cell_type": "markdown",
   "id": "04aa2e18",
   "metadata": {},
   "source": [
    "Possible reasons for omissions:  \n",
    "1. technical failure, because of which part of the data was lost  \n",
    "2. absence of data initially \n",
    "3. In the case of rating - there are risks that the company evaluating the age category of users has not considered all games or only those available in the U.S. and Canada (the main geography of the company)\n",
    "    \n",
    "How we fix the omissions:\n",
    "1. critic_score and other_sales - we leave NaN in order not to spoil the statistics in separate periods, because during 20 years there were changes and the median can spoil the statistics for conditional 2010-2015.\n",
    "2. name, platform, genre, rating - we fill them with the value “Not Found” in order to be able to display them at the stage of research analysis and not to lose them.\n",
    "3. na_sales, eu_sales и т.д - пропуски в одной строке. Such a row is of no use to us - delete it.\n",
    "        \n",
    "tbd in a column in user_score - will be defined. Reasons for this - the game was released recently and users have not had time to evaluate the game, or the evaluations have not been processed yet. We replace such values with Not Found, so that it will be possible to take them into account later in the study"
   ]
  },
  {
   "cell_type": "markdown",
   "id": "43bdeb1c",
   "metadata": {},
   "source": [
    "### Total number of absences"
   ]
  },
  {
   "cell_type": "code",
   "execution_count": 52,
   "id": "7c9b979c",
   "metadata": {},
   "outputs": [
    {
     "data": {
      "text/plain": [
       "index                 0\n",
       "name                  3\n",
       "platform              1\n",
       "year_of_release       1\n",
       "genre                 3\n",
       "na_sales              1\n",
       "eu_sales              1\n",
       "jp_sales              1\n",
       "other_sales           1\n",
       "critic_score       7237\n",
       "user_score         6702\n",
       "rating             6717\n",
       "dtype: int64"
      ]
     },
     "execution_count": 52,
     "metadata": {},
     "output_type": "execute_result"
    }
   ],
   "source": [
    "data.isna().sum()"
   ]
  },
  {
   "cell_type": "markdown",
   "id": "c63a0f2a",
   "metadata": {},
   "source": [
    "Further work with skips:   \n",
    "<b>name, platform, genre, rating</b> - fill with empty “Not Found” value, as there is no possibility to find something averaged among other values, and we can't delete these strings, as they carry other valuable information.  \n",
    "<b>na_sales, eu_sales, jp_sales, other_sales</b> - all of them have exactly 1 skip, it is suspected that all skips are in one line (let's check)  \n",
    "<b>critic_score, user_score</b> - fill with median or mean, depending on the distribution   \n",
    "Possible causes:  \n",
    "1. technical problems"
   ]
  },
  {
   "cell_type": "markdown",
   "id": "47006794",
   "metadata": {},
   "source": [
    "### Check string with missing value in na_sales"
   ]
  },
  {
   "cell_type": "code",
   "execution_count": 53,
   "id": "f4457afb",
   "metadata": {},
   "outputs": [
    {
     "name": "stdout",
     "output_type": "stream",
     "text": [
      "     index name platform  year_of_release genre  na_sales  eu_sales  jp_sales  \\\n",
      "119    119  NaN      NaN              NaN   NaN       NaN       NaN       NaN   \n",
      "\n",
      "     other_sales  critic_score  user_score rating  \n",
      "119          NaN           NaN         NaN    NaN  \n",
      "<class 'pandas.core.frame.DataFrame'>\n",
      "RangeIndex: 14292 entries, 0 to 14291\n",
      "Data columns (total 12 columns):\n",
      " #   Column           Non-Null Count  Dtype  \n",
      "---  ------           --------------  -----  \n",
      " 0   index            14292 non-null  int64  \n",
      " 1   name             14289 non-null  object \n",
      " 2   platform         14291 non-null  object \n",
      " 3   year_of_release  14291 non-null  float64\n",
      " 4   genre            14289 non-null  object \n",
      " 5   na_sales         14291 non-null  float64\n",
      " 6   eu_sales         14291 non-null  float64\n",
      " 7   jp_sales         14291 non-null  float64\n",
      " 8   other_sales      14291 non-null  float64\n",
      " 9   critic_score     7055 non-null   float64\n",
      " 10  user_score       7590 non-null   float64\n",
      " 11  rating           7575 non-null   object \n",
      "dtypes: float64(7), int64(1), object(4)\n",
      "memory usage: 1.3+ MB\n"
     ]
    }
   ],
   "source": [
    "print(data[data['na_sales'].isna()])\n",
    "data.info()"
   ]
  },
  {
   "cell_type": "markdown",
   "id": "a32e1e73",
   "metadata": {},
   "source": [
    "As we can see there is an empty line in the dataset - delete it.  \n",
    "Possible causes:  \n",
    "1. technical failure  "
   ]
  },
  {
   "cell_type": "markdown",
   "id": "2b0c22be",
   "metadata": {},
   "source": [
    "### Deleting an empty string"
   ]
  },
  {
   "cell_type": "code",
   "execution_count": 54,
   "id": "ad0303cc",
   "metadata": {},
   "outputs": [],
   "source": [
    "data = data.query('na_sales >=-1')"
   ]
  },
  {
   "cell_type": "markdown",
   "id": "f9fca486",
   "metadata": {},
   "source": [
    "### Filling name, platform, genre. rating"
   ]
  },
  {
   "cell_type": "code",
   "execution_count": 55,
   "id": "9c896bad",
   "metadata": {},
   "outputs": [],
   "source": [
    "data['name'] = data['name'].fillna('Not Found')\n",
    "data['platform'] = data['platform'].fillna('Not Found')\n",
    "data['genre'] = data['genre'].fillna('Not Found')\n",
    "data['rating'] = data['rating'].fillna('Not Found')"
   ]
  },
  {
   "cell_type": "markdown",
   "id": "d6b62af9",
   "metadata": {},
   "source": [
    "<a id = 'check'> </a>\n",
    "## Checking after pass processing"
   ]
  },
  {
   "cell_type": "code",
   "execution_count": 56,
   "id": "2079e66f",
   "metadata": {},
   "outputs": [
    {
     "name": "stdout",
     "output_type": "stream",
     "text": [
      "index                 0\n",
      "name                  0\n",
      "platform              0\n",
      "year_of_release       0\n",
      "genre                 0\n",
      "na_sales              0\n",
      "eu_sales              0\n",
      "jp_sales              0\n",
      "other_sales           0\n",
      "critic_score       7236\n",
      "user_score         6701\n",
      "rating                0\n",
      "dtype: int64\n"
     ]
    }
   ],
   "source": [
    "print(data.isna().sum())"
   ]
  },
  {
   "cell_type": "markdown",
   "id": "992f815c",
   "metadata": {},
   "source": [
    "<a id = 'total_sales'> </a>\n",
    "## Search for the amount of sales from all regions"
   ]
  },
  {
   "cell_type": "code",
   "execution_count": 57,
   "id": "c5f9b713",
   "metadata": {},
   "outputs": [],
   "source": [
    "data['total_sales'] = data[['na_sales', 'eu_sales', 'jp_sales', 'other_sales']].sum(axis = 'columns')"
   ]
  },
  {
   "cell_type": "markdown",
   "id": "f4fa1758",
   "metadata": {},
   "source": [
    "<a id = 'conclusion2'></a>\n",
    "## Conclusion"
   ]
  },
  {
   "cell_type": "markdown",
   "id": "c434c4e2",
   "metadata": {},
   "source": [
    "In the received dataset there were wrong data types, omissions, duplicates. All of this has been corrected at this stage.  \n",
    "More details:  \n",
    "Column omissions:  \n",
    "name, platform, rating, genre - the category of data that we cannot calculate and choose something average, so we fill the data with “stub” “Not Found” - so we don't lose valuable information, which is carried by rows in other columns, and also keep the possibility to display data about rows without information in the research analysis  \n",
    "critic_score, user_score - we leave NaN because of changing user behavior, average values, medians and so on can spoil our research, so it is better to leave empty. We also can't delete data because of important information in other columns.  \n",
    "What are the reasons for these omissions?  \n",
    "name, platform, genre - technical failure/error of the person who created the dataset.  \n",
    "rating - the rating company is responsible for products on the US and Canadian markets, so some games may not get their rating because they are not sold in the US, or the game has no rating. "
   ]
  },
  {
   "cell_type": "markdown",
   "id": "5d91638d",
   "metadata": {},
   "source": [
    "# Exploratory data analysis"
   ]
  },
  {
   "cell_type": "markdown",
   "id": "965daaac",
   "metadata": {},
   "source": [
    "<a id = 'total_games'> </a>\n",
    "## Number of games released in each year"
   ]
  },
  {
   "cell_type": "code",
   "execution_count": 58,
   "id": "a340463d",
   "metadata": {
    "scrolled": true
   },
   "outputs": [
    {
     "data": {
      "text/html": [
       "<div>\n",
       "<style scoped>\n",
       "    .dataframe tbody tr th:only-of-type {\n",
       "        vertical-align: middle;\n",
       "    }\n",
       "\n",
       "    .dataframe tbody tr th {\n",
       "        vertical-align: top;\n",
       "    }\n",
       "\n",
       "    .dataframe thead th {\n",
       "        text-align: right;\n",
       "    }\n",
       "</style>\n",
       "<table border=\"1\" class=\"dataframe\">\n",
       "  <thead>\n",
       "    <tr style=\"text-align: right;\">\n",
       "      <th></th>\n",
       "      <th>year_of_release</th>\n",
       "      <th>count</th>\n",
       "    </tr>\n",
       "  </thead>\n",
       "  <tbody>\n",
       "    <tr>\n",
       "      <th>0</th>\n",
       "      <td>2008.0</td>\n",
       "      <td>818</td>\n",
       "    </tr>\n",
       "    <tr>\n",
       "      <th>1</th>\n",
       "      <td>2007.0</td>\n",
       "      <td>762</td>\n",
       "    </tr>\n",
       "    <tr>\n",
       "      <th>2</th>\n",
       "      <td>2009.0</td>\n",
       "      <td>734</td>\n",
       "    </tr>\n",
       "    <tr>\n",
       "      <th>3</th>\n",
       "      <td>2006.0</td>\n",
       "      <td>697</td>\n",
       "    </tr>\n",
       "    <tr>\n",
       "      <th>4</th>\n",
       "      <td>2010.0</td>\n",
       "      <td>683</td>\n",
       "    </tr>\n",
       "    <tr>\n",
       "      <th>5</th>\n",
       "      <td>2011.0</td>\n",
       "      <td>655</td>\n",
       "    </tr>\n",
       "    <tr>\n",
       "      <th>6</th>\n",
       "      <td>2005.0</td>\n",
       "      <td>601</td>\n",
       "    </tr>\n",
       "    <tr>\n",
       "      <th>7</th>\n",
       "      <td>2002.0</td>\n",
       "      <td>506</td>\n",
       "    </tr>\n",
       "    <tr>\n",
       "      <th>8</th>\n",
       "      <td>2003.0</td>\n",
       "      <td>500</td>\n",
       "    </tr>\n",
       "    <tr>\n",
       "      <th>9</th>\n",
       "      <td>2004.0</td>\n",
       "      <td>496</td>\n",
       "    </tr>\n",
       "    <tr>\n",
       "      <th>10</th>\n",
       "      <td>2012.0</td>\n",
       "      <td>436</td>\n",
       "    </tr>\n",
       "    <tr>\n",
       "      <th>11</th>\n",
       "      <td>1998.0</td>\n",
       "      <td>364</td>\n",
       "    </tr>\n",
       "    <tr>\n",
       "      <th>12</th>\n",
       "      <td>2001.0</td>\n",
       "      <td>362</td>\n",
       "    </tr>\n",
       "    <tr>\n",
       "      <th>13</th>\n",
       "      <td>2015.0</td>\n",
       "      <td>351</td>\n",
       "    </tr>\n",
       "    <tr>\n",
       "      <th>14</th>\n",
       "      <td>2013.0</td>\n",
       "      <td>333</td>\n",
       "    </tr>\n",
       "    <tr>\n",
       "      <th>15</th>\n",
       "      <td>1999.0</td>\n",
       "      <td>318</td>\n",
       "    </tr>\n",
       "    <tr>\n",
       "      <th>16</th>\n",
       "      <td>2014.0</td>\n",
       "      <td>313</td>\n",
       "    </tr>\n",
       "    <tr>\n",
       "      <th>17</th>\n",
       "      <td>2000.0</td>\n",
       "      <td>289</td>\n",
       "    </tr>\n",
       "    <tr>\n",
       "      <th>18</th>\n",
       "      <td>2016.0</td>\n",
       "      <td>286</td>\n",
       "    </tr>\n",
       "    <tr>\n",
       "      <th>19</th>\n",
       "      <td>1997.0</td>\n",
       "      <td>281</td>\n",
       "    </tr>\n",
       "    <tr>\n",
       "      <th>20</th>\n",
       "      <td>1996.0</td>\n",
       "      <td>258</td>\n",
       "    </tr>\n",
       "    <tr>\n",
       "      <th>21</th>\n",
       "      <td>1995.0</td>\n",
       "      <td>215</td>\n",
       "    </tr>\n",
       "    <tr>\n",
       "      <th>22</th>\n",
       "      <td>-1.0</td>\n",
       "      <td>193</td>\n",
       "    </tr>\n",
       "    <tr>\n",
       "      <th>23</th>\n",
       "      <td>1994.0</td>\n",
       "      <td>117</td>\n",
       "    </tr>\n",
       "    <tr>\n",
       "      <th>24</th>\n",
       "      <td>1993.0</td>\n",
       "      <td>60</td>\n",
       "    </tr>\n",
       "    <tr>\n",
       "      <th>25</th>\n",
       "      <td>1981.0</td>\n",
       "      <td>46</td>\n",
       "    </tr>\n",
       "    <tr>\n",
       "      <th>26</th>\n",
       "      <td>1992.0</td>\n",
       "      <td>41</td>\n",
       "    </tr>\n",
       "    <tr>\n",
       "      <th>27</th>\n",
       "      <td>1991.0</td>\n",
       "      <td>40</td>\n",
       "    </tr>\n",
       "    <tr>\n",
       "      <th>28</th>\n",
       "      <td>1982.0</td>\n",
       "      <td>36</td>\n",
       "    </tr>\n",
       "    <tr>\n",
       "      <th>29</th>\n",
       "      <td>1986.0</td>\n",
       "      <td>21</td>\n",
       "    </tr>\n",
       "    <tr>\n",
       "      <th>30</th>\n",
       "      <td>1983.0</td>\n",
       "      <td>17</td>\n",
       "    </tr>\n",
       "    <tr>\n",
       "      <th>31</th>\n",
       "      <td>1989.0</td>\n",
       "      <td>17</td>\n",
       "    </tr>\n",
       "    <tr>\n",
       "      <th>32</th>\n",
       "      <td>1990.0</td>\n",
       "      <td>16</td>\n",
       "    </tr>\n",
       "    <tr>\n",
       "      <th>33</th>\n",
       "      <td>1987.0</td>\n",
       "      <td>16</td>\n",
       "    </tr>\n",
       "    <tr>\n",
       "      <th>34</th>\n",
       "      <td>1988.0</td>\n",
       "      <td>15</td>\n",
       "    </tr>\n",
       "    <tr>\n",
       "      <th>35</th>\n",
       "      <td>1985.0</td>\n",
       "      <td>14</td>\n",
       "    </tr>\n",
       "    <tr>\n",
       "      <th>36</th>\n",
       "      <td>1984.0</td>\n",
       "      <td>14</td>\n",
       "    </tr>\n",
       "    <tr>\n",
       "      <th>37</th>\n",
       "      <td>1980.0</td>\n",
       "      <td>9</td>\n",
       "    </tr>\n",
       "  </tbody>\n",
       "</table>\n",
       "</div>"
      ],
      "text/plain": [
       "    year_of_release  count\n",
       "0            2008.0    818\n",
       "1            2007.0    762\n",
       "2            2009.0    734\n",
       "3            2006.0    697\n",
       "4            2010.0    683\n",
       "5            2011.0    655\n",
       "6            2005.0    601\n",
       "7            2002.0    506\n",
       "8            2003.0    500\n",
       "9            2004.0    496\n",
       "10           2012.0    436\n",
       "11           1998.0    364\n",
       "12           2001.0    362\n",
       "13           2015.0    351\n",
       "14           2013.0    333\n",
       "15           1999.0    318\n",
       "16           2014.0    313\n",
       "17           2000.0    289\n",
       "18           2016.0    286\n",
       "19           1997.0    281\n",
       "20           1996.0    258\n",
       "21           1995.0    215\n",
       "22             -1.0    193\n",
       "23           1994.0    117\n",
       "24           1993.0     60\n",
       "25           1981.0     46\n",
       "26           1992.0     41\n",
       "27           1991.0     40\n",
       "28           1982.0     36\n",
       "29           1986.0     21\n",
       "30           1983.0     17\n",
       "31           1989.0     17\n",
       "32           1990.0     16\n",
       "33           1987.0     16\n",
       "34           1988.0     15\n",
       "35           1985.0     14\n",
       "36           1984.0     14\n",
       "37           1980.0      9"
      ]
     },
     "metadata": {},
     "output_type": "display_data"
    }
   ],
   "source": [
    "games_per_year = data.drop_duplicates(subset = ['year_of_release', 'name'])\n",
    "games_per_year = games_per_year['year_of_release'].value_counts().reset_index()\n",
    "display(games_per_year)"
   ]
  },
  {
   "cell_type": "markdown",
   "id": "4ab18e0c",
   "metadata": {},
   "source": [
    "### Graphical display of data"
   ]
  },
  {
   "cell_type": "code",
   "execution_count": 59,
   "id": "98a6519d",
   "metadata": {},
   "outputs": [
    {
     "data": {
      "image/png": "[encoded data removed]",
      "text/plain": [
       "<Figure size 640x480 with 1 Axes>"
      ]
     },
     "metadata": {},
     "output_type": "display_data"
    }
   ],
   "source": [
    "data[data['year_of_release']>0]['year_of_release'].hist(bins = (data[data['year_of_release']>0]['year_of_release'].nunique()))\n",
    "plt.title('Number of games released within ~5 years')\n",
    "plt.ylabel('Number of games')\n",
    "plt.xlabel('Year')\n",
    "plt.show()"
   ]
  },
  {
   "cell_type": "markdown",
   "id": "c4536c71",
   "metadata": {},
   "source": [
    "<b>Intermediate conclusion: </b>  \n",
    "The growth of created games from 1990 to 2010 can be explained by the fact that technology was developing, becoming more accessible to society, as a consequence a great demand for entertainment - games was formed, which developers tried to close. The decline can be explained by higher standards of games from users => users start expecting better, more thoughtful games. This complicates the development process => fewer games start to appear on the market, but they are much more complex in terms of development.  \n"
   ]
  },
  {
   "cell_type": "markdown",
   "id": "21c74923",
   "metadata": {},
   "source": [
    "<a id = 'change'> </a>\n",
    "## Sales changes in the most popular platforms"
   ]
  },
  {
   "cell_type": "markdown",
   "id": "3103cdd4",
   "metadata": {},
   "source": [
    "### Identify the platforms with the highest total sales in each year (top 12)"
   ]
  },
  {
   "cell_type": "code",
   "execution_count": 60,
   "id": "2c74c3cf",
   "metadata": {
    "scrolled": true
   },
   "outputs": [],
   "source": [
    "top_platforms = (data.query('year_of_release >= 10')[['platform', 'total_sales']]\n",
    ".groupby(['platform'])\n",
    ".agg({'total_sales': 'sum'})\n",
    ".sort_values(by = 'total_sales', ascending = False)).head(12)"
   ]
  },
  {
   "cell_type": "markdown",
   "id": "a887dbe1",
   "metadata": {},
   "source": [
    "### Let's get a list of the top platforms"
   ]
  },
  {
   "cell_type": "code",
   "execution_count": 61,
   "id": "bc21aff3",
   "metadata": {},
   "outputs": [],
   "source": [
    "top_platforms_list = top_platforms.index"
   ]
  },
  {
   "cell_type": "markdown",
   "id": "10b9807c",
   "metadata": {},
   "source": [
    "### Get an initial dataset ONLY with top platforms"
   ]
  },
  {
   "cell_type": "code",
   "execution_count": 62,
   "id": "e676d2bf",
   "metadata": {},
   "outputs": [
    {
     "name": "stderr",
     "output_type": "stream",
     "text": [
      "C:\\Users\\Artem\\AppData\\Local\\Temp\\ipykernel_19240\\3619648299.py:1: UserWarning: Boolean Series key will be reindexed to match DataFrame index.\n",
      "  top_12_platforms = data.query('year_of_release >= 10')[data['platform'].isin(top_platforms_list)]\n"
     ]
    },
    {
     "data": {
      "text/html": [
       "<div>\n",
       "<style scoped>\n",
       "    .dataframe tbody tr th:only-of-type {\n",
       "        vertical-align: middle;\n",
       "    }\n",
       "\n",
       "    .dataframe tbody tr th {\n",
       "        vertical-align: top;\n",
       "    }\n",
       "\n",
       "    .dataframe thead th {\n",
       "        text-align: right;\n",
       "    }\n",
       "</style>\n",
       "<table border=\"1\" class=\"dataframe\">\n",
       "  <thead>\n",
       "    <tr style=\"text-align: right;\">\n",
       "      <th></th>\n",
       "      <th>index</th>\n",
       "      <th>name</th>\n",
       "      <th>platform</th>\n",
       "      <th>year_of_release</th>\n",
       "      <th>genre</th>\n",
       "      <th>na_sales</th>\n",
       "      <th>eu_sales</th>\n",
       "      <th>jp_sales</th>\n",
       "      <th>other_sales</th>\n",
       "      <th>critic_score</th>\n",
       "      <th>user_score</th>\n",
       "      <th>rating</th>\n",
       "      <th>total_sales</th>\n",
       "    </tr>\n",
       "  </thead>\n",
       "  <tbody>\n",
       "    <tr>\n",
       "      <th>0</th>\n",
       "      <td>0</td>\n",
       "      <td>Wii Sports</td>\n",
       "      <td>Wii</td>\n",
       "      <td>2006.0</td>\n",
       "      <td>Sports</td>\n",
       "      <td>41.36</td>\n",
       "      <td>28.96</td>\n",
       "      <td>3.77</td>\n",
       "      <td>8.45</td>\n",
       "      <td>76.0</td>\n",
       "      <td>8.0</td>\n",
       "      <td>E</td>\n",
       "      <td>82.54</td>\n",
       "    </tr>\n",
       "    <tr>\n",
       "      <th>2</th>\n",
       "      <td>2</td>\n",
       "      <td>Mario Kart Wii</td>\n",
       "      <td>Wii</td>\n",
       "      <td>2008.0</td>\n",
       "      <td>Racing</td>\n",
       "      <td>15.68</td>\n",
       "      <td>12.76</td>\n",
       "      <td>3.79</td>\n",
       "      <td>3.29</td>\n",
       "      <td>82.0</td>\n",
       "      <td>8.3</td>\n",
       "      <td>E</td>\n",
       "      <td>35.52</td>\n",
       "    </tr>\n",
       "    <tr>\n",
       "      <th>3</th>\n",
       "      <td>3</td>\n",
       "      <td>Wii Sports Resort</td>\n",
       "      <td>Wii</td>\n",
       "      <td>2009.0</td>\n",
       "      <td>Sports</td>\n",
       "      <td>15.61</td>\n",
       "      <td>10.93</td>\n",
       "      <td>3.28</td>\n",
       "      <td>2.95</td>\n",
       "      <td>80.0</td>\n",
       "      <td>8.0</td>\n",
       "      <td>E</td>\n",
       "      <td>32.77</td>\n",
       "    </tr>\n",
       "    <tr>\n",
       "      <th>4</th>\n",
       "      <td>4</td>\n",
       "      <td>Pokemon Red/Pokemon Blue</td>\n",
       "      <td>GB</td>\n",
       "      <td>1996.0</td>\n",
       "      <td>Role-Playing</td>\n",
       "      <td>11.27</td>\n",
       "      <td>8.89</td>\n",
       "      <td>10.22</td>\n",
       "      <td>1.00</td>\n",
       "      <td>NaN</td>\n",
       "      <td>NaN</td>\n",
       "      <td>Not Found</td>\n",
       "      <td>31.38</td>\n",
       "    </tr>\n",
       "    <tr>\n",
       "      <th>5</th>\n",
       "      <td>5</td>\n",
       "      <td>Tetris</td>\n",
       "      <td>GB</td>\n",
       "      <td>1989.0</td>\n",
       "      <td>Puzzle</td>\n",
       "      <td>23.20</td>\n",
       "      <td>2.26</td>\n",
       "      <td>4.22</td>\n",
       "      <td>0.58</td>\n",
       "      <td>NaN</td>\n",
       "      <td>NaN</td>\n",
       "      <td>Not Found</td>\n",
       "      <td>30.26</td>\n",
       "    </tr>\n",
       "    <tr>\n",
       "      <th>...</th>\n",
       "      <td>...</td>\n",
       "      <td>...</td>\n",
       "      <td>...</td>\n",
       "      <td>...</td>\n",
       "      <td>...</td>\n",
       "      <td>...</td>\n",
       "      <td>...</td>\n",
       "      <td>...</td>\n",
       "      <td>...</td>\n",
       "      <td>...</td>\n",
       "      <td>...</td>\n",
       "      <td>...</td>\n",
       "      <td>...</td>\n",
       "    </tr>\n",
       "    <tr>\n",
       "      <th>14285</th>\n",
       "      <td>16708</td>\n",
       "      <td>Woody Woodpecker in Crazy Castle 5</td>\n",
       "      <td>GBA</td>\n",
       "      <td>2002.0</td>\n",
       "      <td>Platform</td>\n",
       "      <td>0.01</td>\n",
       "      <td>0.00</td>\n",
       "      <td>0.00</td>\n",
       "      <td>0.00</td>\n",
       "      <td>NaN</td>\n",
       "      <td>NaN</td>\n",
       "      <td>Not Found</td>\n",
       "      <td>0.01</td>\n",
       "    </tr>\n",
       "    <tr>\n",
       "      <th>14286</th>\n",
       "      <td>16709</td>\n",
       "      <td>SCORE International Baja 1000: The Official Game</td>\n",
       "      <td>PS2</td>\n",
       "      <td>2008.0</td>\n",
       "      <td>Racing</td>\n",
       "      <td>0.00</td>\n",
       "      <td>0.00</td>\n",
       "      <td>0.00</td>\n",
       "      <td>0.00</td>\n",
       "      <td>NaN</td>\n",
       "      <td>NaN</td>\n",
       "      <td>Not Found</td>\n",
       "      <td>0.00</td>\n",
       "    </tr>\n",
       "    <tr>\n",
       "      <th>14287</th>\n",
       "      <td>16710</td>\n",
       "      <td>Samurai Warriors: Sanada Maru</td>\n",
       "      <td>PS3</td>\n",
       "      <td>2016.0</td>\n",
       "      <td>Action</td>\n",
       "      <td>0.00</td>\n",
       "      <td>0.00</td>\n",
       "      <td>0.01</td>\n",
       "      <td>0.00</td>\n",
       "      <td>NaN</td>\n",
       "      <td>NaN</td>\n",
       "      <td>Not Found</td>\n",
       "      <td>0.01</td>\n",
       "    </tr>\n",
       "    <tr>\n",
       "      <th>14288</th>\n",
       "      <td>16711</td>\n",
       "      <td>LMA Manager 2007</td>\n",
       "      <td>X360</td>\n",
       "      <td>2006.0</td>\n",
       "      <td>Sports</td>\n",
       "      <td>0.00</td>\n",
       "      <td>0.01</td>\n",
       "      <td>0.00</td>\n",
       "      <td>0.00</td>\n",
       "      <td>NaN</td>\n",
       "      <td>NaN</td>\n",
       "      <td>Not Found</td>\n",
       "      <td>0.01</td>\n",
       "    </tr>\n",
       "    <tr>\n",
       "      <th>14290</th>\n",
       "      <td>16713</td>\n",
       "      <td>Spirits &amp; Spells</td>\n",
       "      <td>GBA</td>\n",
       "      <td>2003.0</td>\n",
       "      <td>Platform</td>\n",
       "      <td>0.01</td>\n",
       "      <td>0.00</td>\n",
       "      <td>0.00</td>\n",
       "      <td>0.00</td>\n",
       "      <td>NaN</td>\n",
       "      <td>NaN</td>\n",
       "      <td>Not Found</td>\n",
       "      <td>0.01</td>\n",
       "    </tr>\n",
       "  </tbody>\n",
       "</table>\n",
       "<p>11117 rows × 13 columns</p>\n",
       "</div>"
      ],
      "text/plain": [
       "       index                                              name platform  \\\n",
       "0          0                                        Wii Sports      Wii   \n",
       "2          2                                    Mario Kart Wii      Wii   \n",
       "3          3                                 Wii Sports Resort      Wii   \n",
       "4          4                          Pokemon Red/Pokemon Blue       GB   \n",
       "5          5                                            Tetris       GB   \n",
       "...      ...                                               ...      ...   \n",
       "14285  16708                Woody Woodpecker in Crazy Castle 5      GBA   \n",
       "14286  16709  SCORE International Baja 1000: The Official Game      PS2   \n",
       "14287  16710                     Samurai Warriors: Sanada Maru      PS3   \n",
       "14288  16711                                  LMA Manager 2007     X360   \n",
       "14290  16713                                  Spirits & Spells      GBA   \n",
       "\n",
       "       year_of_release         genre  na_sales  eu_sales  jp_sales  \\\n",
       "0               2006.0        Sports     41.36     28.96      3.77   \n",
       "2               2008.0        Racing     15.68     12.76      3.79   \n",
       "3               2009.0        Sports     15.61     10.93      3.28   \n",
       "4               1996.0  Role-Playing     11.27      8.89     10.22   \n",
       "5               1989.0        Puzzle     23.20      2.26      4.22   \n",
       "...                ...           ...       ...       ...       ...   \n",
       "14285           2002.0      Platform      0.01      0.00      0.00   \n",
       "14286           2008.0        Racing      0.00      0.00      0.00   \n",
       "14287           2016.0        Action      0.00      0.00      0.01   \n",
       "14288           2006.0        Sports      0.00      0.01      0.00   \n",
       "14290           2003.0      Platform      0.01      0.00      0.00   \n",
       "\n",
       "       other_sales  critic_score  user_score     rating  total_sales  \n",
       "0             8.45          76.0         8.0          E        82.54  \n",
       "2             3.29          82.0         8.3          E        35.52  \n",
       "3             2.95          80.0         8.0          E        32.77  \n",
       "4             1.00           NaN         NaN  Not Found        31.38  \n",
       "5             0.58           NaN         NaN  Not Found        30.26  \n",
       "...            ...           ...         ...        ...          ...  \n",
       "14285         0.00           NaN         NaN  Not Found         0.01  \n",
       "14286         0.00           NaN         NaN  Not Found         0.00  \n",
       "14287         0.00           NaN         NaN  Not Found         0.01  \n",
       "14288         0.00           NaN         NaN  Not Found         0.01  \n",
       "14290         0.00           NaN         NaN  Not Found         0.01  \n",
       "\n",
       "[11117 rows x 13 columns]"
      ]
     },
     "metadata": {},
     "output_type": "display_data"
    }
   ],
   "source": [
    "top_12_platforms = data.query('year_of_release >= 10')[data['platform'].isin(top_platforms_list)]\n",
    "display(top_12_platforms)"
   ]
  },
  {
   "cell_type": "markdown",
   "id": "9bf32589",
   "metadata": {},
   "source": [
    "### Let's draw a graph"
   ]
  },
  {
   "cell_type": "code",
   "execution_count": 63,
   "id": "72e9e317",
   "metadata": {},
   "outputs": [
    {
     "data": {
      "image/png": "[encoded data removed]",
      "text/plain": [
       "<Figure size 1300x700 with 1 Axes>"
      ]
     },
     "metadata": {},
     "output_type": "display_data"
    }
   ],
   "source": [
    "pd.pivot_table(top_12_platforms, \n",
    "               index = ['year_of_release'], \n",
    "               values = 'total_sales', \n",
    "               columns = 'platform', \n",
    "               aggfunc = 'sum').plot(kind = 'line', stacked = True, figsize = (13,7),\n",
    "                title = 'Dynamics by platform', ylabel = 'Sales', xlabel = 'Year').legend(loc = 'upper right', \n",
    "                bbox_to_anchor = (1.12, 1), title = 'Platforms')\n",
    "plt.show()"
   ]
  },
  {
   "cell_type": "markdown",
   "id": "5a449ae0",
   "metadata": {},
   "source": [
    "Conclusion: game sales have been falling in recent years. Many consoles were at their peak in 2005-2010, as the early conclusions suggested"
   ]
  },
  {
   "cell_type": "markdown",
   "id": "1e6f9cac",
   "metadata": {},
   "source": [
    "### Create a table with all the top platforms"
   ]
  },
  {
   "cell_type": "code",
   "execution_count": 64,
   "id": "ba6523b1",
   "metadata": {},
   "outputs": [
    {
     "data": {
      "text/html": [
       "<div>\n",
       "<style scoped>\n",
       "    .dataframe tbody tr th:only-of-type {\n",
       "        vertical-align: middle;\n",
       "    }\n",
       "\n",
       "    .dataframe tbody tr th {\n",
       "        vertical-align: top;\n",
       "    }\n",
       "\n",
       "    .dataframe thead th {\n",
       "        text-align: right;\n",
       "    }\n",
       "</style>\n",
       "<table border=\"1\" class=\"dataframe\">\n",
       "  <thead>\n",
       "    <tr style=\"text-align: right;\">\n",
       "      <th></th>\n",
       "      <th>number</th>\n",
       "      <th>1995</th>\n",
       "      <th>1996</th>\n",
       "      <th>1997</th>\n",
       "      <th>1998</th>\n",
       "      <th>1999</th>\n",
       "      <th>2000</th>\n",
       "      <th>2001</th>\n",
       "      <th>2002</th>\n",
       "      <th>2003</th>\n",
       "      <th>2004</th>\n",
       "      <th>2005</th>\n",
       "      <th>2006</th>\n",
       "    </tr>\n",
       "  </thead>\n",
       "  <tbody>\n",
       "    <tr>\n",
       "      <th>0</th>\n",
       "      <td>1</td>\n",
       "      <td>PS</td>\n",
       "      <td>PS</td>\n",
       "      <td>PS</td>\n",
       "      <td>PS</td>\n",
       "      <td>PS</td>\n",
       "      <td>PS</td>\n",
       "      <td>PS2</td>\n",
       "      <td>PS2</td>\n",
       "      <td>PS2</td>\n",
       "      <td>PS2</td>\n",
       "      <td>PS2</td>\n",
       "      <td>Wii</td>\n",
       "    </tr>\n",
       "    <tr>\n",
       "      <th>1</th>\n",
       "      <td>2</td>\n",
       "      <td>SNES</td>\n",
       "      <td>GB</td>\n",
       "      <td>N64</td>\n",
       "      <td>N64</td>\n",
       "      <td>N64</td>\n",
       "      <td>PS2</td>\n",
       "      <td>GBA</td>\n",
       "      <td>GBA</td>\n",
       "      <td>XB</td>\n",
       "      <td>GBA</td>\n",
       "      <td>DS</td>\n",
       "      <td>DS</td>\n",
       "    </tr>\n",
       "    <tr>\n",
       "      <th>2</th>\n",
       "      <td>3</td>\n",
       "      <td>SAT</td>\n",
       "      <td>N64</td>\n",
       "      <td>PC</td>\n",
       "      <td>GB</td>\n",
       "      <td>GB</td>\n",
       "      <td>N64</td>\n",
       "      <td>PS</td>\n",
       "      <td>GC</td>\n",
       "      <td>GBA</td>\n",
       "      <td>XB</td>\n",
       "      <td>XB</td>\n",
       "      <td>PS2</td>\n",
       "    </tr>\n",
       "    <tr>\n",
       "      <th>3</th>\n",
       "      <td>4</td>\n",
       "      <td>PC</td>\n",
       "      <td>SNES</td>\n",
       "      <td>SAT</td>\n",
       "      <td>SAT</td>\n",
       "      <td>DC</td>\n",
       "      <td>GB</td>\n",
       "      <td>GC</td>\n",
       "      <td>XB</td>\n",
       "      <td>GC</td>\n",
       "      <td>GC</td>\n",
       "      <td>PSP</td>\n",
       "      <td>PSP</td>\n",
       "    </tr>\n",
       "    <tr>\n",
       "      <th>4</th>\n",
       "      <td>5</td>\n",
       "      <td>GB</td>\n",
       "      <td>PC</td>\n",
       "      <td>GB</td>\n",
       "      <td>DC</td>\n",
       "      <td>PC</td>\n",
       "      <td>DC</td>\n",
       "      <td>XB</td>\n",
       "      <td>PC</td>\n",
       "      <td>PC</td>\n",
       "      <td>DS</td>\n",
       "      <td>GBA</td>\n",
       "      <td>X360</td>\n",
       "    </tr>\n",
       "  </tbody>\n",
       "</table>\n",
       "</div>"
      ],
      "text/plain": [
       "   number  1995  1996 1997 1998 1999 2000 2001 2002 2003 2004 2005  2006\n",
       "0       1    PS    PS   PS   PS   PS   PS  PS2  PS2  PS2  PS2  PS2   Wii\n",
       "1       2  SNES    GB  N64  N64  N64  PS2  GBA  GBA   XB  GBA   DS    DS\n",
       "2       3   SAT   N64   PC   GB   GB  N64   PS   GC  GBA   XB   XB   PS2\n",
       "3       4    PC  SNES  SAT  SAT   DC   GB   GC   XB   GC   GC  PSP   PSP\n",
       "4       5    GB    PC   GB   DC   PC   DC   XB   PC   PC   DS  GBA  X360"
      ]
     },
     "metadata": {},
     "output_type": "display_data"
    }
   ],
   "source": [
    "top_platforms = pd.DataFrame()\n",
    "top_platforms['number'] = [1,2,3,4,5]\n",
    "for n in range(1995, 2007):\n",
    "    current_year = (data.query('year_of_release == @n')\n",
    "                    .groupby(by = 'platform')\n",
    "                    .agg({\"total_sales\": \"sum\"})\n",
    "                    .sort_values(by = 'total_sales', ascending = False)\n",
    "                    .reset_index()\n",
    "                    .head())\n",
    "    top_platforms[n] = current_year['platform']\n",
    "display(top_platforms)    \n"
   ]
  },
  {
   "cell_type": "code",
   "execution_count": 65,
   "id": "a3791ff5",
   "metadata": {},
   "outputs": [
    {
     "data": {
      "text/html": [
       "<div>\n",
       "<style scoped>\n",
       "    .dataframe tbody tr th:only-of-type {\n",
       "        vertical-align: middle;\n",
       "    }\n",
       "\n",
       "    .dataframe tbody tr th {\n",
       "        vertical-align: top;\n",
       "    }\n",
       "\n",
       "    .dataframe thead th {\n",
       "        text-align: right;\n",
       "    }\n",
       "</style>\n",
       "<table border=\"1\" class=\"dataframe\">\n",
       "  <thead>\n",
       "    <tr style=\"text-align: right;\">\n",
       "      <th></th>\n",
       "      <th>number</th>\n",
       "      <th>2007</th>\n",
       "      <th>2008</th>\n",
       "      <th>2009</th>\n",
       "      <th>2010</th>\n",
       "      <th>2011</th>\n",
       "      <th>2012</th>\n",
       "      <th>2013</th>\n",
       "      <th>2014</th>\n",
       "      <th>2015</th>\n",
       "      <th>2016</th>\n",
       "    </tr>\n",
       "  </thead>\n",
       "  <tbody>\n",
       "    <tr>\n",
       "      <th>0</th>\n",
       "      <td>1</td>\n",
       "      <td>Wii</td>\n",
       "      <td>Wii</td>\n",
       "      <td>Wii</td>\n",
       "      <td>X360</td>\n",
       "      <td>PS3</td>\n",
       "      <td>PS3</td>\n",
       "      <td>PS3</td>\n",
       "      <td>PS4</td>\n",
       "      <td>PS4</td>\n",
       "      <td>PS4</td>\n",
       "    </tr>\n",
       "    <tr>\n",
       "      <th>1</th>\n",
       "      <td>2</td>\n",
       "      <td>DS</td>\n",
       "      <td>X360</td>\n",
       "      <td>PS3</td>\n",
       "      <td>PS3</td>\n",
       "      <td>X360</td>\n",
       "      <td>X360</td>\n",
       "      <td>X360</td>\n",
       "      <td>XOne</td>\n",
       "      <td>XOne</td>\n",
       "      <td>XOne</td>\n",
       "    </tr>\n",
       "    <tr>\n",
       "      <th>2</th>\n",
       "      <td>3</td>\n",
       "      <td>X360</td>\n",
       "      <td>PS3</td>\n",
       "      <td>X360</td>\n",
       "      <td>Wii</td>\n",
       "      <td>3DS</td>\n",
       "      <td>3DS</td>\n",
       "      <td>3DS</td>\n",
       "      <td>PS3</td>\n",
       "      <td>3DS</td>\n",
       "      <td>3DS</td>\n",
       "    </tr>\n",
       "    <tr>\n",
       "      <th>3</th>\n",
       "      <td>4</td>\n",
       "      <td>PS3</td>\n",
       "      <td>DS</td>\n",
       "      <td>DS</td>\n",
       "      <td>DS</td>\n",
       "      <td>Wii</td>\n",
       "      <td>PC</td>\n",
       "      <td>PS4</td>\n",
       "      <td>3DS</td>\n",
       "      <td>PS3</td>\n",
       "      <td>PC</td>\n",
       "    </tr>\n",
       "    <tr>\n",
       "      <th>4</th>\n",
       "      <td>5</td>\n",
       "      <td>PS2</td>\n",
       "      <td>PS2</td>\n",
       "      <td>PSP</td>\n",
       "      <td>PSP</td>\n",
       "      <td>PC</td>\n",
       "      <td>Wii</td>\n",
       "      <td>WiiU</td>\n",
       "      <td>X360</td>\n",
       "      <td>WiiU</td>\n",
       "      <td>WiiU</td>\n",
       "    </tr>\n",
       "    <tr>\n",
       "      <th>5</th>\n",
       "      <td>6</td>\n",
       "      <td>PSP</td>\n",
       "      <td>PSP</td>\n",
       "      <td>PS2</td>\n",
       "      <td>PC</td>\n",
       "      <td>PSP</td>\n",
       "      <td>WiiU</td>\n",
       "      <td>XOne</td>\n",
       "      <td>WiiU</td>\n",
       "      <td>X360</td>\n",
       "      <td>PSV</td>\n",
       "    </tr>\n",
       "    <tr>\n",
       "      <th>6</th>\n",
       "      <td>7</td>\n",
       "      <td>PC</td>\n",
       "      <td>PC</td>\n",
       "      <td>PC</td>\n",
       "      <td>PS2</td>\n",
       "      <td>DS</td>\n",
       "      <td>PSV</td>\n",
       "      <td>PC</td>\n",
       "      <td>PC</td>\n",
       "      <td>PC</td>\n",
       "      <td>PS3</td>\n",
       "    </tr>\n",
       "    <tr>\n",
       "      <th>7</th>\n",
       "      <td>8</td>\n",
       "      <td>GBA</td>\n",
       "      <td>XB</td>\n",
       "      <td>NaN</td>\n",
       "      <td>NaN</td>\n",
       "      <td>PSV</td>\n",
       "      <td>DS</td>\n",
       "      <td>PSV</td>\n",
       "      <td>PSV</td>\n",
       "      <td>PSV</td>\n",
       "      <td>X360</td>\n",
       "    </tr>\n",
       "  </tbody>\n",
       "</table>\n",
       "</div>"
      ],
      "text/plain": [
       "   number  2007  2008  2009  2010  2011  2012  2013  2014  2015  2016\n",
       "0       1   Wii   Wii   Wii  X360   PS3   PS3   PS3   PS4   PS4   PS4\n",
       "1       2    DS  X360   PS3   PS3  X360  X360  X360  XOne  XOne  XOne\n",
       "2       3  X360   PS3  X360   Wii   3DS   3DS   3DS   PS3   3DS   3DS\n",
       "3       4   PS3    DS    DS    DS   Wii    PC   PS4   3DS   PS3    PC\n",
       "4       5   PS2   PS2   PSP   PSP    PC   Wii  WiiU  X360  WiiU  WiiU\n",
       "5       6   PSP   PSP   PS2    PC   PSP  WiiU  XOne  WiiU  X360   PSV\n",
       "6       7    PC    PC    PC   PS2    DS   PSV    PC    PC    PC   PS3\n",
       "7       8   GBA    XB   NaN   NaN   PSV    DS   PSV   PSV   PSV  X360"
      ]
     },
     "metadata": {},
     "output_type": "display_data"
    },
    {
     "name": "stdout",
     "output_type": "stream",
     "text": [
      "number    8\n",
      "2007      8\n",
      "2008      8\n",
      "2009      7\n",
      "2010      7\n",
      "2011      8\n",
      "2012      8\n",
      "2013      8\n",
      "2014      8\n",
      "2015      8\n",
      "2016      8\n",
      "dtype: int64\n"
     ]
    }
   ],
   "source": [
    "top_platforms = pd.DataFrame()\n",
    "top_platforms['number'] = [1,2,3,4,5,6,7,8]\n",
    "for n in range(2007, 2017):\n",
    "    current_year = (data.query('year_of_release == @n')\n",
    "                    .groupby(by = 'platform')\n",
    "                    .agg({\"total_sales\": \"sum\"})\n",
    "                    .sort_values(by = 'total_sales', ascending = False)\n",
    "                    .reset_index()\n",
    "                    .head(8))\n",
    "    top_platforms[n] = current_year['platform']\n",
    "display(top_platforms)    \n",
    "print(top_platforms.nunique())"
   ]
  },
  {
   "cell_type": "markdown",
   "id": "11793de0",
   "metadata": {},
   "source": [
    "Let's look at the table with the platforms for which games generated the most revenue.  \n",
    "Let's look at the period from 1995 to 2000. We can see that for 6 years ps games were with the highest demand.  \n",
    "Now let's turn to the period from 2011 to 2016. In these years we can see that the first 3 years the ps3 was popular and the remaining 3 years the ps4. \n",
    "This shows that in recent years decent alternatives are appearing more often than they used to.\n",
    "\n",
    "Many platforms have been in the top 5 for about 7-9 years => we can consider the period from 2012 to 2016 as relevant, so we will have a chance to see all the platforms that are likely to go down in the near future "
   ]
  },
  {
   "cell_type": "code",
   "execution_count": 66,
   "id": "0b6f1dca",
   "metadata": {},
   "outputs": [],
   "source": [
    "actual_data = data.query('year_of_release >= 2012')"
   ]
  },
  {
   "cell_type": "markdown",
   "id": "bcda55bc",
   "metadata": {},
   "source": [
    "### Let's study the period relevant to us"
   ]
  },
  {
   "cell_type": "code",
   "execution_count": 67,
   "id": "d861daaf",
   "metadata": {},
   "outputs": [
    {
     "data": {
      "text/html": [
       "<div>\n",
       "<style scoped>\n",
       "    .dataframe tbody tr th:only-of-type {\n",
       "        vertical-align: middle;\n",
       "    }\n",
       "\n",
       "    .dataframe tbody tr th {\n",
       "        vertical-align: top;\n",
       "    }\n",
       "\n",
       "    .dataframe thead th {\n",
       "        text-align: right;\n",
       "    }\n",
       "</style>\n",
       "<table border=\"1\" class=\"dataframe\">\n",
       "  <thead>\n",
       "    <tr style=\"text-align: right;\">\n",
       "      <th></th>\n",
       "      <th>number</th>\n",
       "      <th>2012</th>\n",
       "      <th>2013</th>\n",
       "      <th>2014</th>\n",
       "      <th>2015</th>\n",
       "      <th>2016</th>\n",
       "    </tr>\n",
       "  </thead>\n",
       "  <tbody>\n",
       "    <tr>\n",
       "      <th>0</th>\n",
       "      <td>1</td>\n",
       "      <td>PS3</td>\n",
       "      <td>PS3</td>\n",
       "      <td>PS4</td>\n",
       "      <td>PS4</td>\n",
       "      <td>PS4</td>\n",
       "    </tr>\n",
       "    <tr>\n",
       "      <th>1</th>\n",
       "      <td>2</td>\n",
       "      <td>X360</td>\n",
       "      <td>X360</td>\n",
       "      <td>XOne</td>\n",
       "      <td>XOne</td>\n",
       "      <td>XOne</td>\n",
       "    </tr>\n",
       "    <tr>\n",
       "      <th>2</th>\n",
       "      <td>3</td>\n",
       "      <td>3DS</td>\n",
       "      <td>3DS</td>\n",
       "      <td>PS3</td>\n",
       "      <td>3DS</td>\n",
       "      <td>3DS</td>\n",
       "    </tr>\n",
       "    <tr>\n",
       "      <th>3</th>\n",
       "      <td>4</td>\n",
       "      <td>PC</td>\n",
       "      <td>PS4</td>\n",
       "      <td>3DS</td>\n",
       "      <td>PS3</td>\n",
       "      <td>PC</td>\n",
       "    </tr>\n",
       "    <tr>\n",
       "      <th>4</th>\n",
       "      <td>5</td>\n",
       "      <td>Wii</td>\n",
       "      <td>WiiU</td>\n",
       "      <td>X360</td>\n",
       "      <td>WiiU</td>\n",
       "      <td>WiiU</td>\n",
       "    </tr>\n",
       "    <tr>\n",
       "      <th>5</th>\n",
       "      <td>6</td>\n",
       "      <td>WiiU</td>\n",
       "      <td>XOne</td>\n",
       "      <td>WiiU</td>\n",
       "      <td>X360</td>\n",
       "      <td>PSV</td>\n",
       "    </tr>\n",
       "    <tr>\n",
       "      <th>6</th>\n",
       "      <td>7</td>\n",
       "      <td>PSV</td>\n",
       "      <td>PC</td>\n",
       "      <td>PC</td>\n",
       "      <td>PC</td>\n",
       "      <td>PS3</td>\n",
       "    </tr>\n",
       "    <tr>\n",
       "      <th>7</th>\n",
       "      <td>8</td>\n",
       "      <td>DS</td>\n",
       "      <td>PSV</td>\n",
       "      <td>PSV</td>\n",
       "      <td>PSV</td>\n",
       "      <td>X360</td>\n",
       "    </tr>\n",
       "  </tbody>\n",
       "</table>\n",
       "</div>"
      ],
      "text/plain": [
       "   number  2012  2013  2014  2015  2016\n",
       "0       1   PS3   PS3   PS4   PS4   PS4\n",
       "1       2  X360  X360  XOne  XOne  XOne\n",
       "2       3   3DS   3DS   PS3   3DS   3DS\n",
       "3       4    PC   PS4   3DS   PS3    PC\n",
       "4       5   Wii  WiiU  X360  WiiU  WiiU\n",
       "5       6  WiiU  XOne  WiiU  X360   PSV\n",
       "6       7   PSV    PC    PC    PC   PS3\n",
       "7       8    DS   PSV   PSV   PSV  X360"
      ]
     },
     "metadata": {},
     "output_type": "display_data"
    }
   ],
   "source": [
    "top_platforms = pd.DataFrame()\n",
    "top_platforms['number'] = [1,2,3,4,5,6,7,8]\n",
    "for n in range(2012, 2017):\n",
    "    current_year = (actual_data.query('year_of_release == @n')\n",
    "                    .groupby(by = 'platform')\n",
    "                    .agg({\"total_sales\": \"sum\"})\n",
    "                    .sort_values(by = 'total_sales', ascending = False)\n",
    "                    .reset_index()\n",
    "                    .head(8))\n",
    "    top_platforms[n] = current_year['platform']\n",
    "display(top_platforms)    "
   ]
  },
  {
   "cell_type": "markdown",
   "id": "7b281b88",
   "metadata": {},
   "source": [
    "In recent years, the following have been falling in sales:  \n",
    "1. PS3   \n",
    "2. X360  \n",
    "3. WII   \n",
    "In recent years, sales have increased for:  \n",
    "1. PS4   \n",
    "2. XONE  \n",
    "3. PC  \n",
    "4. wiiu  \n",
    "5. 3DS  \n",
    "\n",
    "Potentially favorable platforms:  \n",
    "For the last three years ps4, xone and 3DS have steadily occupied the 1st and 2nd places, if the manufacturers of these consoles do not plan to release new versions, we can assume that in 2017 both platforms will continue to occupy these positions, as the main audience of game lovers is focused on them, and even if a competitive alternative comes out, it will take a few years for people to switch from PS4, XONE and 3DS to the novelty.   \n",
    "\n",
    "Let's also pay attention to the position of PC in 2000-2012, after a long stagnation PC started to gain popularity. In 2013-2016 there is a similar situation, when PC sharply gaining popularity in 2016, which may be due to improved optimization of the platform, if this is indeed the case, the interest of users will continue to grow.  \n",
    "\n",
    "Also in favor of PC can play the fact that new products are released most often first on PS4, XONE consoles and only a few years later appear for PC. Taking into account that PS4 games have been popular for the last three years, we can assume that a cult game has been released, which will soon appear on PC\n",
    "\n",
    "3DS - handheld console, few analogs => remains popular\n"
   ]
  },
  {
   "cell_type": "markdown",
   "id": "3280e158",
   "metadata": {},
   "source": [
    "<h4>Based on this, let's summarize the list of the best platforms for 2017 (prioritized):</h4>\n",
    "\n",
    "1. PS4  \n",
    "2. XONE  \n",
    "3. PC  \n",
    "4. 3DS"
   ]
  },
  {
   "cell_type": "markdown",
   "id": "3c6987d0",
   "metadata": {},
   "source": [
    "<a id = 'boxplot'> </a>\n",
    "##  Boxplot on global sales for all platforms</h4>"
   ]
  },
  {
   "cell_type": "markdown",
   "id": "513ee31d",
   "metadata": {},
   "source": [
    "### The boxed version"
   ]
  },
  {
   "cell_type": "markdown",
   "id": "290e7f26",
   "metadata": {},
   "source": [
    "#### Top platforms in the current period"
   ]
  },
  {
   "cell_type": "code",
   "execution_count": 68,
   "id": "f8637074",
   "metadata": {},
   "outputs": [],
   "source": [
    "top_platforms = (actual_data[['platform', 'total_sales']]\n",
    ".groupby(['platform'])\n",
    ".agg({'total_sales': 'sum'})\n",
    ".sort_values(by = 'total_sales', ascending = False)).head(12)"
   ]
  },
  {
   "cell_type": "markdown",
   "id": "1178719c",
   "metadata": {},
   "source": [
    "#### Top platforms list"
   ]
  },
  {
   "cell_type": "code",
   "execution_count": 69,
   "id": "3f654ff5",
   "metadata": {},
   "outputs": [
    {
     "name": "stdout",
     "output_type": "stream",
     "text": [
      "Index(['PS4', 'PS3', 'X360', '3DS', 'XOne'], dtype='object', name='platform')\n"
     ]
    }
   ],
   "source": [
    "platforms = top_platforms.head().index\n",
    "print(platforms)\n",
    "data_to_plot = [actual_data[actual_data['platform'] == platform]['total_sales'] for platform in platforms]"
   ]
  },
  {
   "cell_type": "markdown",
   "id": "257918f8",
   "metadata": {},
   "source": [
    "#### Visualization with drawers"
   ]
  },
  {
   "cell_type": "code",
   "execution_count": 70,
   "id": "7c7962d1",
   "metadata": {
    "scrolled": false
   },
   "outputs": [
    {
     "data": {
      "image/png": "[encoded data removed]",
      "text/plain": [
       "<Figure size 1200x800 with 1 Axes>"
      ]
     },
     "metadata": {},
     "output_type": "display_data"
    }
   ],
   "source": [
    "plt.figure(figsize = (12,8))\n",
    "plt.boxplot(data_to_plot, labels = platforms)\n",
    "plt.title('Global game sales by platform')\n",
    "plt.ylabel('Sales million copies')\n",
    "plt.xlabel('Platform')\n",
    "plt.ylim(0,2)\n",
    "plt.xticks(rotation = 45)\n",
    "plt.grid(True)\n",
    "plt.show()"
   ]
  },
  {
   "cell_type": "markdown",
   "id": "1af94547",
   "metadata": {},
   "source": [
    "#### Visualization with all emissions"
   ]
  },
  {
   "cell_type": "code",
   "execution_count": 71,
   "id": "12e8a93d",
   "metadata": {},
   "outputs": [
    {
     "data": {
      "image/png": "[encoded data removed]",
      "text/plain": [
       "<Figure size 1200x800 with 1 Axes>"
      ]
     },
     "metadata": {},
     "output_type": "display_data"
    }
   ],
   "source": [
    "plt.figure(figsize = (12,8))\n",
    "plt.boxplot(data_to_plot, labels = platforms)\n",
    "plt.title('Global game sales by platform')\n",
    "plt.ylabel('Sales million copies')\n",
    "plt.xlabel('Platform')\n",
    "plt.xticks(rotation = 45)\n",
    "plt.grid(True)\n",
    "plt.show()"
   ]
  },
  {
   "cell_type": "markdown",
   "id": "0db08808",
   "metadata": {},
   "source": [
    "The most popular console from 2012 to 2016 was the X360, the most popular game sold was on PS3, less popular was 3D, PS4 had the most “outliers”"
   ]
  },
  {
   "cell_type": "markdown",
   "id": "896807e6",
   "metadata": {},
   "source": [
    "<a id = 'critic_score'> </a>\n",
    "##  How critics' scores affect game sales on the PS4's most popular platform"
   ]
  },
  {
   "cell_type": "markdown",
   "id": "e4f527b0",
   "metadata": {},
   "source": [
    "### Scatter plot"
   ]
  },
  {
   "cell_type": "code",
   "execution_count": 72,
   "id": "35b8632e",
   "metadata": {},
   "outputs": [
    {
     "data": {
      "image/png": "[encoded data removed]",
      "text/plain": [
       "<Figure size 640x480 with 1 Axes>"
      ]
     },
     "metadata": {},
     "output_type": "display_data"
    }
   ],
   "source": [
    "ps4_data = data.query('(platform == \"PS4\") & (year_of_release >= 2012)')\n",
    "plt.scatter(y = ps4_data['total_sales'], x = ps4_data['critic_score'], alpha = 0.3)\n",
    "plt.xlabel('Critics score')\n",
    "plt.ylabel('Sales (mln)')\n",
    "plt.title('Scatter plot of critics scores and sales')\n",
    "plt.show()\n"
   ]
  },
  {
   "cell_type": "markdown",
   "id": "28b1b67e",
   "metadata": {},
   "source": [
    "### Correlation"
   ]
  },
  {
   "cell_type": "code",
   "execution_count": 73,
   "id": "d781587e",
   "metadata": {},
   "outputs": [
    {
     "name": "stdout",
     "output_type": "stream",
     "text": [
      "Correlation of total game sales and critics' scores 0.4064685741971657\n"
     ]
    }
   ],
   "source": [
    "print(\"Correlation of total game sales and critics' scores\", ps4_data['total_sales'].corr(ps4_data['critic_score']))"
   ]
  },
  {
   "cell_type": "markdown",
   "id": "01a9a6c2",
   "metadata": {},
   "source": [
    "<b> Intermediate conclusion: </b> \n",
    "\n",
    "As we can see, scores have a positive correlation (not too close to 0) with the number of copies of the game sold, which means: the higher the score, the more likely more games will be sold. "
   ]
  },
  {
   "cell_type": "markdown",
   "id": "ebc9a507",
   "metadata": {},
   "source": [
    "<a id = 'user_score'> </a>\n",
    "## How player ratings affect game sales on the PS4's most popular platform"
   ]
  },
  {
   "cell_type": "markdown",
   "id": "cfbeeed4",
   "metadata": {},
   "source": [
    "### Scatter plot"
   ]
  },
  {
   "cell_type": "code",
   "execution_count": 74,
   "id": "9d394644",
   "metadata": {},
   "outputs": [
    {
     "data": {
      "image/png": "[encoded data removed]",
      "text/plain": [
       "<Figure size 640x480 with 1 Axes>"
      ]
     },
     "metadata": {},
     "output_type": "display_data"
    }
   ],
   "source": [
    "plt.scatter(y = ps4_data['total_sales'], x = ps4_data['user_score'], alpha = 0.3)\n",
    "\n",
    "plt.xlabel('Players score')\n",
    "plt.ylabel('Sales (mln)')\n",
    "plt.title('Scatter plot of critics scores and sales')\n",
    "plt.show()\n"
   ]
  },
  {
   "cell_type": "markdown",
   "id": "3424a9bf",
   "metadata": {},
   "source": [
    "### Correlation"
   ]
  },
  {
   "cell_type": "code",
   "execution_count": 75,
   "id": "b2a24227",
   "metadata": {},
   "outputs": [
    {
     "name": "stdout",
     "output_type": "stream",
     "text": [
      "Correlation of total game sales and player evaluations -0.031957110204556376\n"
     ]
    }
   ],
   "source": [
    "print(\"Correlation of total game sales and player evaluations\", ps4_data['total_sales'].corr(ps4_data['user_score']))"
   ]
  },
  {
   "cell_type": "markdown",
   "id": "48abc6f7",
   "metadata": {},
   "source": [
    "<b> Intermediate conclusion: </b> \n",
    "\n",
    "The correlation between sales and player ratings is approximately 0 (-0.04), so we conclude that user ratings have almost no effect on the number of copies sold"
   ]
  },
  {
   "cell_type": "markdown",
   "id": "2fef7451",
   "metadata": {},
   "source": [
    "Critics' ratings show a direct, medium-weak correlation with the number of sales. User ratings have no correlation with sales"
   ]
  },
  {
   "cell_type": "markdown",
   "id": "630ac4e5",
   "metadata": {},
   "source": [
    "<a id = 'critic_score_other'> </a>\n",
    "## How critics' scores affect game sales on other platforms (PC and 3DS)"
   ]
  },
  {
   "cell_type": "markdown",
   "id": "8b8b04ba",
   "metadata": {},
   "source": [
    "### Scatter plot"
   ]
  },
  {
   "cell_type": "markdown",
   "id": "e9f7dca1",
   "metadata": {},
   "source": [
    "#### PC"
   ]
  },
  {
   "cell_type": "code",
   "execution_count": 76,
   "id": "febf0bbc",
   "metadata": {},
   "outputs": [
    {
     "data": {
      "image/png": "[encoded data removed]",
      "text/plain": [
       "<Figure size 640x480 with 1 Axes>"
      ]
     },
     "metadata": {},
     "output_type": "display_data"
    }
   ],
   "source": [
    "pc_data = data.query('(platform == \"PC\") & (year_of_release >= 2012)')\n",
    "plt.scatter(y = pc_data['total_sales'], x = pc_data['critic_score'], alpha = 0.3)\n",
    "plt.xlabel('Critics score')\n",
    "plt.ylabel('Sales (mln)')\n",
    "plt.title('Scatter plot of critics scores and PC sales')\n",
    "plt.show()"
   ]
  },
  {
   "cell_type": "markdown",
   "id": "32d96f17",
   "metadata": {},
   "source": [
    "#### 3DS"
   ]
  },
  {
   "cell_type": "code",
   "execution_count": 77,
   "id": "4e9f8620",
   "metadata": {},
   "outputs": [
    {
     "data": {
      "image/png": "[encoded data removed]",
      "text/plain": [
       "<Figure size 640x480 with 1 Axes>"
      ]
     },
     "metadata": {},
     "output_type": "display_data"
    }
   ],
   "source": [
    "ds_data = data.query('(platform == \"3DS\") & (year_of_release >= 2012)')\n",
    "plt.scatter(y = ds_data['total_sales'], x = ds_data['critic_score'], alpha = 0.3)\n",
    "plt.xlabel('Critic score')\n",
    "plt.ylabel('Sales (mln)')\n",
    "plt.title('Scatter plot of critic scores and PC sales')\n",
    "plt.show()"
   ]
  },
  {
   "cell_type": "markdown",
   "id": "cf349c30",
   "metadata": {},
   "source": [
    "### Correlation"
   ]
  },
  {
   "cell_type": "markdown",
   "id": "08af342b",
   "metadata": {},
   "source": [
    "#### PC"
   ]
  },
  {
   "cell_type": "code",
   "execution_count": 78,
   "id": "94224d40",
   "metadata": {},
   "outputs": [
    {
     "name": "stdout",
     "output_type": "stream",
     "text": [
      "Correlation of total game sales and PC critics' scores 0.23724324311567918\n"
     ]
    }
   ],
   "source": [
    "print(\"Correlation of total game sales and PC critics' scores\", pc_data['total_sales'].corr(pc_data['critic_score']))"
   ]
  },
  {
   "cell_type": "markdown",
   "id": "2c84c789",
   "metadata": {},
   "source": [
    "#### 3DS"
   ]
  },
  {
   "cell_type": "code",
   "execution_count": 79,
   "id": "f5e8ea08",
   "metadata": {},
   "outputs": [
    {
     "name": "stdout",
     "output_type": "stream",
     "text": [
      "Correlation of total game sales and 3DS critics' scores 0.31055301915326294\n"
     ]
    }
   ],
   "source": [
    "print(\"Correlation of total game sales and 3DS critics' scores\", ds_data['total_sales'].corr(ds_data['critic_score']))"
   ]
  },
  {
   "cell_type": "markdown",
   "id": "c6ced7f6",
   "metadata": {},
   "source": [
    "We verify that critics' scores show a direct, medium-weak correlation with the number of sales."
   ]
  },
  {
   "cell_type": "markdown",
   "id": "4669d05f",
   "metadata": {},
   "source": [
    "<a id = 'user_score_other'> </a>\n",
    "## How player ratings affect game sales on other platforms (PC and 3DS)"
   ]
  },
  {
   "cell_type": "markdown",
   "id": "dc21968c",
   "metadata": {},
   "source": [
    "### Scatter plot"
   ]
  },
  {
   "cell_type": "markdown",
   "id": "2dd96d4b",
   "metadata": {},
   "source": [
    "#### PC"
   ]
  },
  {
   "cell_type": "code",
   "execution_count": 80,
   "id": "279b9402",
   "metadata": {},
   "outputs": [
    {
     "data": {
      "image/png": "[encoded data removed]",
      "text/plain": [
       "<Figure size 640x480 with 1 Axes>"
      ]
     },
     "metadata": {},
     "output_type": "display_data"
    }
   ],
   "source": [
    "plt.scatter(y = ps4_data['total_sales'], x = ps4_data['user_score'], alpha = 0.3)\n",
    "\n",
    "plt.xlabel('Players score')\n",
    "plt.ylabel('Sales (mln)')\n",
    "plt.title('Scatter plot of user evaluation and PC sales')\n",
    "plt.show()\n"
   ]
  },
  {
   "cell_type": "markdown",
   "id": "08cc7224",
   "metadata": {},
   "source": [
    "#### 3DS"
   ]
  },
  {
   "cell_type": "code",
   "execution_count": 81,
   "id": "92c18038",
   "metadata": {},
   "outputs": [
    {
     "data": {
      "image/png": "[encoded data removed]",
      "text/plain": [
       "<Figure size 640x480 with 1 Axes>"
      ]
     },
     "metadata": {},
     "output_type": "display_data"
    }
   ],
   "source": [
    "plt.scatter(y = ps4_data['total_sales'], x = ps4_data['user_score'], alpha = 0.3)\n",
    "\n",
    "plt.xlabel('Players score')\n",
    "plt.ylabel('Sales (mln)')\n",
    "plt.title('Scatter plot of user evaluation and 3DS sales')\n",
    "plt.show()\n"
   ]
  },
  {
   "cell_type": "markdown",
   "id": "906bc011",
   "metadata": {},
   "source": [
    "### Correlation"
   ]
  },
  {
   "cell_type": "markdown",
   "id": "eacab15a",
   "metadata": {},
   "source": [
    "#### PC"
   ]
  },
  {
   "cell_type": "code",
   "execution_count": 82,
   "id": "51f903bf",
   "metadata": {},
   "outputs": [
    {
     "name": "stdout",
     "output_type": "stream",
     "text": [
      "Correlation of total game sales and PC user ratings -0.12186747630735577\n"
     ]
    }
   ],
   "source": [
    "print(\"Correlation of total game sales and PC user ratings\", pc_data['total_sales'].corr(pc_data['user_score']))"
   ]
  },
  {
   "cell_type": "markdown",
   "id": "7cd5809d",
   "metadata": {},
   "source": [
    "#### 3DS"
   ]
  },
  {
   "cell_type": "code",
   "execution_count": 83,
   "id": "24dc671d",
   "metadata": {},
   "outputs": [
    {
     "name": "stdout",
     "output_type": "stream",
     "text": [
      "Correlation of overall game sales and 3DS user ratings 0.19758263411038596\n"
     ]
    }
   ],
   "source": [
    "print(\"Correlation of overall game sales and 3DS user ratings\", ds_data['total_sales'].corr(ds_data['user_score']))"
   ]
  },
  {
   "cell_type": "markdown",
   "id": "aaace25a",
   "metadata": {},
   "source": [
    "Realize that user reviews may have a weak correlation with sales"
   ]
  },
  {
   "cell_type": "markdown",
   "id": "65d5cabf",
   "metadata": {},
   "source": [
    "Conclusion: critics' reviews have a weak-to-moderate correlation. User reviews may have a weak correlation, may have no correlation"
   ]
  },
  {
   "cell_type": "markdown",
   "id": "cc006bf4",
   "metadata": {},
   "source": [
    "<a id = 'genre_sales'> </a>\n",
    "## Distribution of games by genre"
   ]
  },
  {
   "cell_type": "code",
   "execution_count": 84,
   "id": "580fe91c",
   "metadata": {},
   "outputs": [
    {
     "data": {
      "image/png": "[encoded data removed]",
      "text/plain": [
       "<Figure size 640x480 with 1 Axes>"
      ]
     },
     "metadata": {},
     "output_type": "display_data"
    }
   ],
   "source": [
    "genre_data = actual_data.groupby('genre').agg({'total_sales': 'median'}).query('genre != \"Not Found\"').reset_index().sort_values(by = 'total_sales')\n",
    "plt.barh(y = genre_data['genre'], width = genre_data['total_sales'])\n",
    "plt.show()"
   ]
  },
  {
   "cell_type": "markdown",
   "id": "0f89bdcf",
   "metadata": {},
   "source": [
    "As a result of comparing the average number of sold copies of a game, we can see which genres are more and less interesting to users:  <br> \n",
    "Interesting:    <br>\n",
    "1. Shooters   <br>\n",
    "2. Sports  <br>\n",
    "3. Platform   <br>\n",
    "\n",
    "Not interesting: <br>\n",
    "1. Strategy  <br>\n",
    "2. Puzzle   <br>\n",
    "3. Adventure  <br>\n"
   ]
  },
  {
   "cell_type": "markdown",
   "id": "9fecd7e8",
   "metadata": {},
   "source": [
    "<a id = 'user_portrait'> </a>\n",
    "## User portrait"
   ]
  },
  {
   "cell_type": "markdown",
   "id": "a6c807a2",
   "metadata": {},
   "source": [
    "### Top 5 platforms</h3>"
   ]
  },
  {
   "cell_type": "markdown",
   "id": "dc92ce08",
   "metadata": {},
   "source": [
    "#### Obtaining the top 5 most popular platforms among users between 2012 and 2016"
   ]
  },
  {
   "cell_type": "code",
   "execution_count": 85,
   "id": "7bfd2dce",
   "metadata": {},
   "outputs": [],
   "source": [
    "platform_sales = (actual_data\n",
    "                  .groupby('platform')\n",
    "                  .agg({'na_sales':'sum', 'eu_sales':'sum', 'jp_sales':'sum'})\n",
    "                  .reset_index())"
   ]
  },
  {
   "cell_type": "markdown",
   "id": "a4a772cb",
   "metadata": {},
   "source": [
    "#### A breakdown of the top 5 most popular platforms among users between 2012 and 2016 by region"
   ]
  },
  {
   "cell_type": "code",
   "execution_count": 86,
   "id": "62869379",
   "metadata": {},
   "outputs": [],
   "source": [
    "na_top_platforms = platform_sales.sort_values(by = 'na_sales', ascending = False).head()[['platform', 'na_sales']]\n",
    "eu_top_platforms = platform_sales.sort_values(by = 'eu_sales', ascending = False).head()[['platform', 'eu_sales']]\n",
    "jp_top_platforms = platform_sales.sort_values(by = 'jp_sales', ascending = False).head()[['platform', 'jp_sales']]"
   ]
  },
  {
   "cell_type": "markdown",
   "id": "5c59754f",
   "metadata": {},
   "source": [
    "#### Graphical representation"
   ]
  },
  {
   "cell_type": "markdown",
   "id": "b12fdc0b",
   "metadata": {},
   "source": [
    "<h5>North America</h5>"
   ]
  },
  {
   "cell_type": "code",
   "execution_count": 87,
   "id": "7bf7c348",
   "metadata": {},
   "outputs": [
    {
     "data": {
      "image/png": "[encoded data removed]",
      "text/plain": [
       "<Figure size 640x480 with 1 Axes>"
      ]
     },
     "metadata": {},
     "output_type": "display_data"
    }
   ],
   "source": [
    "plt.bar(height = na_top_platforms['na_sales'], x = na_top_platforms['platform'])\n",
    "plt.title('Share of sales in North America')\n",
    "plt.show()"
   ]
  },
  {
   "cell_type": "markdown",
   "id": "203e52cf",
   "metadata": {},
   "source": [
    "<h5>Europe</h5>"
   ]
  },
  {
   "cell_type": "code",
   "execution_count": 88,
   "id": "83ca3abb",
   "metadata": {},
   "outputs": [
    {
     "data": {
      "image/png": "[encoded data removed]",
      "text/plain": [
       "<Figure size 640x480 with 1 Axes>"
      ]
     },
     "metadata": {},
     "output_type": "display_data"
    }
   ],
   "source": [
    "plt.bar(height = eu_top_platforms['eu_sales'], x = eu_top_platforms['platform'])\n",
    "plt.title('Share of sales in Europe')\n",
    "plt.show()"
   ]
  },
  {
   "cell_type": "markdown",
   "id": "37688ac3",
   "metadata": {},
   "source": [
    "<h5>Japan</h5>"
   ]
  },
  {
   "cell_type": "code",
   "execution_count": 89,
   "id": "0f569e0d",
   "metadata": {},
   "outputs": [
    {
     "data": {
      "image/png": "[encoded data removed]",
      "text/plain": [
       "<Figure size 640x480 with 1 Axes>"
      ]
     },
     "metadata": {},
     "output_type": "display_data"
    }
   ],
   "source": [
    "plt.bar(height = jp_top_platforms['jp_sales'], x = jp_top_platforms['platform'])\n",
    "plt.title('Share of sales in Japan')\n",
    "plt.show()"
   ]
  },
  {
   "cell_type": "markdown",
   "id": "798fb087",
   "metadata": {},
   "source": [
    "<b> Intermediate conclusion: </b> \n",
    "\n",
    "The analysis is based on observations from 2008 to 2016, as this period is considered relevant in this study  \n",
    "There are significant differences in the interests of users from different regions. Americans and Europeans have the same platforms in the top 3, but with different shares. Japan's audience is very different from America and Europe.  \n",
    "The biggest platforms are:  \n",
    "America - x360  \n",
    "Europe - ps3  \n",
    "Japan - 3ds  \n",
    "Smallest platforms:\n",
    "America - ps4  \n",
    "Europe - pc  \n",
    "Japan - wii  \n"
   ]
  },
  {
   "cell_type": "markdown",
   "id": "4fc2b52e",
   "metadata": {},
   "source": [
    "<a id = 'top_genres'> </a>\n",
    "## Top 5 genres"
   ]
  },
  {
   "cell_type": "markdown",
   "id": "eaee119f",
   "metadata": {},
   "source": [
    "### Obtaining statistics on total sales of games of individual genres in all regions"
   ]
  },
  {
   "cell_type": "code",
   "execution_count": 90,
   "id": "90e1567a",
   "metadata": {},
   "outputs": [],
   "source": [
    "genre_region = (actual_data\n",
    "                  .groupby('genre')\n",
    "                  .agg({'na_sales':'sum', 'eu_sales':'sum', 'jp_sales':'sum'})\n",
    "                  .reset_index())"
   ]
  },
  {
   "cell_type": "markdown",
   "id": "1b78e86f",
   "metadata": {},
   "source": [
    "### Dataset partitioning "
   ]
  },
  {
   "cell_type": "code",
   "execution_count": 91,
   "id": "e7f7a3ca",
   "metadata": {},
   "outputs": [],
   "source": [
    "na_top_genres = genre_region.sort_values(by = 'na_sales', ascending = False)[['genre', 'na_sales']].head()\n",
    "eu_top_genres = genre_region.sort_values(by = 'eu_sales', ascending = False)[['genre', 'eu_sales']].head()\n",
    "jp_top_genres = genre_region.sort_values(by = 'jp_sales', ascending = False)[['genre', 'jp_sales']].head()"
   ]
  },
  {
   "cell_type": "markdown",
   "id": "143473bb",
   "metadata": {},
   "source": [
    "### Displaying tables"
   ]
  },
  {
   "cell_type": "code",
   "execution_count": 92,
   "id": "7947fb2f",
   "metadata": {},
   "outputs": [
    {
     "data": {
      "text/html": [
       "<div>\n",
       "<style scoped>\n",
       "    .dataframe tbody tr th:only-of-type {\n",
       "        vertical-align: middle;\n",
       "    }\n",
       "\n",
       "    .dataframe tbody tr th {\n",
       "        vertical-align: top;\n",
       "    }\n",
       "\n",
       "    .dataframe thead th {\n",
       "        text-align: right;\n",
       "    }\n",
       "</style>\n",
       "<table border=\"1\" class=\"dataframe\">\n",
       "  <thead>\n",
       "    <tr style=\"text-align: right;\">\n",
       "      <th></th>\n",
       "      <th>genre</th>\n",
       "      <th>na_sales</th>\n",
       "    </tr>\n",
       "  </thead>\n",
       "  <tbody>\n",
       "    <tr>\n",
       "      <th>0</th>\n",
       "      <td>Action</td>\n",
       "      <td>176.39</td>\n",
       "    </tr>\n",
       "    <tr>\n",
       "      <th>8</th>\n",
       "      <td>Shooter</td>\n",
       "      <td>144.64</td>\n",
       "    </tr>\n",
       "    <tr>\n",
       "      <th>10</th>\n",
       "      <td>Sports</td>\n",
       "      <td>81.13</td>\n",
       "    </tr>\n",
       "    <tr>\n",
       "      <th>7</th>\n",
       "      <td>Role-Playing</td>\n",
       "      <td>64.00</td>\n",
       "    </tr>\n",
       "    <tr>\n",
       "      <th>3</th>\n",
       "      <td>Misc</td>\n",
       "      <td>36.90</td>\n",
       "    </tr>\n",
       "  </tbody>\n",
       "</table>\n",
       "</div>"
      ],
      "text/plain": [
       "           genre  na_sales\n",
       "0         Action    176.39\n",
       "8        Shooter    144.64\n",
       "10        Sports     81.13\n",
       "7   Role-Playing     64.00\n",
       "3           Misc     36.90"
      ]
     },
     "metadata": {},
     "output_type": "display_data"
    },
    {
     "data": {
      "text/html": [
       "<div>\n",
       "<style scoped>\n",
       "    .dataframe tbody tr th:only-of-type {\n",
       "        vertical-align: middle;\n",
       "    }\n",
       "\n",
       "    .dataframe tbody tr th {\n",
       "        vertical-align: top;\n",
       "    }\n",
       "\n",
       "    .dataframe thead th {\n",
       "        text-align: right;\n",
       "    }\n",
       "</style>\n",
       "<table border=\"1\" class=\"dataframe\">\n",
       "  <thead>\n",
       "    <tr style=\"text-align: right;\">\n",
       "      <th></th>\n",
       "      <th>genre</th>\n",
       "      <th>eu_sales</th>\n",
       "    </tr>\n",
       "  </thead>\n",
       "  <tbody>\n",
       "    <tr>\n",
       "      <th>0</th>\n",
       "      <td>Action</td>\n",
       "      <td>157.51</td>\n",
       "    </tr>\n",
       "    <tr>\n",
       "      <th>8</th>\n",
       "      <td>Shooter</td>\n",
       "      <td>113.33</td>\n",
       "    </tr>\n",
       "    <tr>\n",
       "      <th>10</th>\n",
       "      <td>Sports</td>\n",
       "      <td>68.69</td>\n",
       "    </tr>\n",
       "    <tr>\n",
       "      <th>7</th>\n",
       "      <td>Role-Playing</td>\n",
       "      <td>48.53</td>\n",
       "    </tr>\n",
       "    <tr>\n",
       "      <th>6</th>\n",
       "      <td>Racing</td>\n",
       "      <td>27.19</td>\n",
       "    </tr>\n",
       "  </tbody>\n",
       "</table>\n",
       "</div>"
      ],
      "text/plain": [
       "           genre  eu_sales\n",
       "0         Action    157.51\n",
       "8        Shooter    113.33\n",
       "10        Sports     68.69\n",
       "7   Role-Playing     48.53\n",
       "6         Racing     27.19"
      ]
     },
     "metadata": {},
     "output_type": "display_data"
    },
    {
     "data": {
      "text/html": [
       "<div>\n",
       "<style scoped>\n",
       "    .dataframe tbody tr th:only-of-type {\n",
       "        vertical-align: middle;\n",
       "    }\n",
       "\n",
       "    .dataframe tbody tr th {\n",
       "        vertical-align: top;\n",
       "    }\n",
       "\n",
       "    .dataframe thead th {\n",
       "        text-align: right;\n",
       "    }\n",
       "</style>\n",
       "<table border=\"1\" class=\"dataframe\">\n",
       "  <thead>\n",
       "    <tr style=\"text-align: right;\">\n",
       "      <th></th>\n",
       "      <th>genre</th>\n",
       "      <th>jp_sales</th>\n",
       "    </tr>\n",
       "  </thead>\n",
       "  <tbody>\n",
       "    <tr>\n",
       "      <th>7</th>\n",
       "      <td>Role-Playing</td>\n",
       "      <td>65.44</td>\n",
       "    </tr>\n",
       "    <tr>\n",
       "      <th>0</th>\n",
       "      <td>Action</td>\n",
       "      <td>52.33</td>\n",
       "    </tr>\n",
       "    <tr>\n",
       "      <th>3</th>\n",
       "      <td>Misc</td>\n",
       "      <td>12.86</td>\n",
       "    </tr>\n",
       "    <tr>\n",
       "      <th>9</th>\n",
       "      <td>Simulation</td>\n",
       "      <td>10.35</td>\n",
       "    </tr>\n",
       "    <tr>\n",
       "      <th>2</th>\n",
       "      <td>Fighting</td>\n",
       "      <td>9.41</td>\n",
       "    </tr>\n",
       "  </tbody>\n",
       "</table>\n",
       "</div>"
      ],
      "text/plain": [
       "          genre  jp_sales\n",
       "7  Role-Playing     65.44\n",
       "0        Action     52.33\n",
       "3          Misc     12.86\n",
       "9    Simulation     10.35\n",
       "2      Fighting      9.41"
      ]
     },
     "metadata": {},
     "output_type": "display_data"
    }
   ],
   "source": [
    "display(na_top_genres, eu_top_genres, jp_top_genres)"
   ]
  },
  {
   "cell_type": "markdown",
   "id": "e5d02add",
   "metadata": {},
   "source": [
    "<b> Intermediate conclusion: </b> \n",
    "\n",
    "The interests of the American and European audiences are almost identical, except for the 4th and 5th places (they differ in places).  \n",
    "Japan's audience is different again.  \n",
    "Top genres for America and Europe:  \n",
    "Action. shooter, sports  \n",
    "Top genres for Japan:  \n",
    "role-playing, action, misc\n"
   ]
  },
  {
   "cell_type": "markdown",
   "id": "adb2e007",
   "metadata": {},
   "source": [
    "<a id = 'esrb'> </a>\n",
    "## Does the ESRB have an impact on sales?"
   ]
  },
  {
   "cell_type": "code",
   "execution_count": 93,
   "id": "3a69971e",
   "metadata": {},
   "outputs": [],
   "source": [
    "esrb_grouped_data = (actual_data\n",
    "                     .groupby(by = 'rating')\n",
    "                     .agg({'na_sales': 'sum','eu_sales': 'sum', 'jp_sales': 'sum'})\n",
    "                     .reset_index())"
   ]
  },
  {
   "cell_type": "markdown",
   "id": "d398993f",
   "metadata": {},
   "source": [
    "### Dataset partitioning "
   ]
  },
  {
   "cell_type": "code",
   "execution_count": 94,
   "id": "2fef0c49",
   "metadata": {},
   "outputs": [],
   "source": [
    "na_esrb = esrb_grouped_data.sort_values(by = 'na_sales', ascending = False)[['rating', 'na_sales']]\n",
    "eu_esrb = esrb_grouped_data.sort_values(by = 'eu_sales', ascending = False)[['rating', 'eu_sales']]\n",
    "jp_esrb = esrb_grouped_data.sort_values(by = 'jp_sales', ascending = False)[['rating', 'jp_sales']]"
   ]
  },
  {
   "cell_type": "code",
   "execution_count": 95,
   "id": "4fd19aa7",
   "metadata": {},
   "outputs": [
    {
     "data": {
      "text/html": [
       "<div>\n",
       "<style scoped>\n",
       "    .dataframe tbody tr th:only-of-type {\n",
       "        vertical-align: middle;\n",
       "    }\n",
       "\n",
       "    .dataframe tbody tr th {\n",
       "        vertical-align: top;\n",
       "    }\n",
       "\n",
       "    .dataframe thead th {\n",
       "        text-align: right;\n",
       "    }\n",
       "</style>\n",
       "<table border=\"1\" class=\"dataframe\">\n",
       "  <thead>\n",
       "    <tr style=\"text-align: right;\">\n",
       "      <th></th>\n",
       "      <th>rating</th>\n",
       "      <th>na_sales</th>\n",
       "    </tr>\n",
       "  </thead>\n",
       "  <tbody>\n",
       "    <tr>\n",
       "      <th>2</th>\n",
       "      <td>M</td>\n",
       "      <td>231.47</td>\n",
       "    </tr>\n",
       "    <tr>\n",
       "      <th>0</th>\n",
       "      <td>E</td>\n",
       "      <td>112.92</td>\n",
       "    </tr>\n",
       "    <tr>\n",
       "      <th>3</th>\n",
       "      <td>Not Found</td>\n",
       "      <td>103.27</td>\n",
       "    </tr>\n",
       "    <tr>\n",
       "      <th>1</th>\n",
       "      <td>E10+</td>\n",
       "      <td>73.29</td>\n",
       "    </tr>\n",
       "    <tr>\n",
       "      <th>4</th>\n",
       "      <td>T</td>\n",
       "      <td>65.80</td>\n",
       "    </tr>\n",
       "  </tbody>\n",
       "</table>\n",
       "</div>"
      ],
      "text/plain": [
       "      rating  na_sales\n",
       "2          M    231.47\n",
       "0          E    112.92\n",
       "3  Not Found    103.27\n",
       "1       E10+     73.29\n",
       "4          T     65.80"
      ]
     },
     "metadata": {},
     "output_type": "display_data"
    },
    {
     "data": {
      "text/html": [
       "<div>\n",
       "<style scoped>\n",
       "    .dataframe tbody tr th:only-of-type {\n",
       "        vertical-align: middle;\n",
       "    }\n",
       "\n",
       "    .dataframe tbody tr th {\n",
       "        vertical-align: top;\n",
       "    }\n",
       "\n",
       "    .dataframe thead th {\n",
       "        text-align: right;\n",
       "    }\n",
       "</style>\n",
       "<table border=\"1\" class=\"dataframe\">\n",
       "  <thead>\n",
       "    <tr style=\"text-align: right;\">\n",
       "      <th></th>\n",
       "      <th>rating</th>\n",
       "      <th>eu_sales</th>\n",
       "    </tr>\n",
       "  </thead>\n",
       "  <tbody>\n",
       "    <tr>\n",
       "      <th>2</th>\n",
       "      <td>M</td>\n",
       "      <td>193.94</td>\n",
       "    </tr>\n",
       "    <tr>\n",
       "      <th>0</th>\n",
       "      <td>E</td>\n",
       "      <td>110.95</td>\n",
       "    </tr>\n",
       "    <tr>\n",
       "      <th>3</th>\n",
       "      <td>Not Found</td>\n",
       "      <td>91.24</td>\n",
       "    </tr>\n",
       "    <tr>\n",
       "      <th>4</th>\n",
       "      <td>T</td>\n",
       "      <td>52.82</td>\n",
       "    </tr>\n",
       "    <tr>\n",
       "      <th>1</th>\n",
       "      <td>E10+</td>\n",
       "      <td>52.48</td>\n",
       "    </tr>\n",
       "  </tbody>\n",
       "</table>\n",
       "</div>"
      ],
      "text/plain": [
       "      rating  eu_sales\n",
       "2          M    193.94\n",
       "0          E    110.95\n",
       "3  Not Found     91.24\n",
       "4          T     52.82\n",
       "1       E10+     52.48"
      ]
     },
     "metadata": {},
     "output_type": "display_data"
    },
    {
     "data": {
      "text/html": [
       "<div>\n",
       "<style scoped>\n",
       "    .dataframe tbody tr th:only-of-type {\n",
       "        vertical-align: middle;\n",
       "    }\n",
       "\n",
       "    .dataframe tbody tr th {\n",
       "        vertical-align: top;\n",
       "    }\n",
       "\n",
       "    .dataframe thead th {\n",
       "        text-align: right;\n",
       "    }\n",
       "</style>\n",
       "<table border=\"1\" class=\"dataframe\">\n",
       "  <thead>\n",
       "    <tr style=\"text-align: right;\">\n",
       "      <th></th>\n",
       "      <th>rating</th>\n",
       "      <th>jp_sales</th>\n",
       "    </tr>\n",
       "  </thead>\n",
       "  <tbody>\n",
       "    <tr>\n",
       "      <th>3</th>\n",
       "      <td>Not Found</td>\n",
       "      <td>108.84</td>\n",
       "    </tr>\n",
       "    <tr>\n",
       "      <th>0</th>\n",
       "      <td>E</td>\n",
       "      <td>28.09</td>\n",
       "    </tr>\n",
       "    <tr>\n",
       "      <th>4</th>\n",
       "      <td>T</td>\n",
       "      <td>25.55</td>\n",
       "    </tr>\n",
       "    <tr>\n",
       "      <th>2</th>\n",
       "      <td>M</td>\n",
       "      <td>21.20</td>\n",
       "    </tr>\n",
       "    <tr>\n",
       "      <th>1</th>\n",
       "      <td>E10+</td>\n",
       "      <td>8.06</td>\n",
       "    </tr>\n",
       "  </tbody>\n",
       "</table>\n",
       "</div>"
      ],
      "text/plain": [
       "      rating  jp_sales\n",
       "3  Not Found    108.84\n",
       "0          E     28.09\n",
       "4          T     25.55\n",
       "2          M     21.20\n",
       "1       E10+      8.06"
      ]
     },
     "metadata": {},
     "output_type": "display_data"
    }
   ],
   "source": [
    "display(na_esrb, eu_esrb, jp_esrb)"
   ]
  },
  {
   "cell_type": "markdown",
   "id": "d022d395",
   "metadata": {},
   "source": [
    "<b> Intermediate conclusion: </b> \n",
    "\n",
    "The ESRB rating affects sales in America and Europe almost equally, the ratings are prioritized by user interests:  \n",
    "1. m  \n",
    "2. e  \n",
    "3. not Found  \n",
    "4. e10+ / t\n",
    "5. t / e10+\n",
    "\n",
    "Users from Japan have different interests:  \n",
    "1. Not Found  \n",
    "2. e\n",
    "3. t  \n",
    "4. m  \n",
    "5. e10+    \n",
    "\n",
    "Not Found's leadership in Japan can be explained by the presence of local games, which are not processed by ESRB, in the Asian market"
   ]
  },
  {
   "cell_type": "markdown",
   "id": "a108204a",
   "metadata": {},
   "source": [
    "# Hypothesis testing"
   ]
  },
  {
   "cell_type": "markdown",
   "id": "e974c8d3",
   "metadata": {},
   "source": [
    "<a id = 'h1'></a>\n",
    "## 1. The average user ratings of the Xbox One and PC platforms are the same</h3>"
   ]
  },
  {
   "cell_type": "markdown",
   "id": "689bd4ee",
   "metadata": {},
   "source": [
    "H0 - average user ratings of both platforms are equal  \n",
    "H1 - average user ratings of the platforms are not equal (two-sided alternative hypothesis)"
   ]
  },
  {
   "cell_type": "markdown",
   "id": "bb23a22a",
   "metadata": {},
   "source": [
    "### Dataset creating"
   ]
  },
  {
   "cell_type": "code",
   "execution_count": 96,
   "id": "b967209d",
   "metadata": {},
   "outputs": [],
   "source": [
    "xbox_user_score = data.query('(year_of_release >= 2012 ) & (user_score > 0) & (platform == \"x360\" | platform == \"xone\")')['user_score']\n",
    "pc_user_score = data.query('(year_of_release >= 2012 ) & (user_score > 0) & (platform == \"pc\")')['user_score']"
   ]
  },
  {
   "cell_type": "markdown",
   "id": "e5d2a612",
   "metadata": {},
   "source": [
    "### Hypothesis testing"
   ]
  },
  {
   "cell_type": "code",
   "execution_count": 97,
   "id": "38166b46",
   "metadata": {},
   "outputs": [
    {
     "name": "stdout",
     "output_type": "stream",
     "text": [
      "H1 is not refuted => average user ratings of XBOX and PC are equal!\n"
     ]
    }
   ],
   "source": [
    "alpha = 0.05\n",
    "result = scipy.stats.ttest_ind(xbox_user_score, pc_user_score)\n",
    "if(result.pvalue < alpha):\n",
    "    print(\"H0 refuted => average user ratings of XBOX and PC are not equal!\")\n",
    "else:\n",
    "    print(\"H1 is not refuted => average user ratings of XBOX and PC are equal!\")"
   ]
  },
  {
   "cell_type": "markdown",
   "id": "21c75013",
   "metadata": {},
   "source": [
    "<b> Intermediate concluison: </b> \n",
    "\n",
    "Since we are comparing two independent datasets, we use scipy.stats.ttest_ind(). alpha is set to 0.05. \n",
    "After comparing pvalue and alpha, we realize that the average values of user ratings are equal to"
   ]
  },
  {
   "cell_type": "markdown",
   "id": "4baf1fee",
   "metadata": {},
   "source": [
    "<a id = 'h2'></a>\n",
    "## 2. The average user ratings for the Action and Sports genres are different."
   ]
  },
  {
   "cell_type": "markdown",
   "id": "b06db0f8",
   "metadata": {},
   "source": [
    "H0 - average user ratings of both genres are equal  \n",
    "H1 - average user ratings of both genres are not equal (two-sided alternative hypothesis)"
   ]
  },
  {
   "cell_type": "markdown",
   "id": "53f9ec6b",
   "metadata": {},
   "source": [
    "### Dataset creating"
   ]
  },
  {
   "cell_type": "code",
   "execution_count": 98,
   "id": "00be7e58",
   "metadata": {},
   "outputs": [],
   "source": [
    "action_user_score = data.query('(year_of_release >= 2012 ) & (genre == \"action\") & (user_score > 0)')['user_score']\n",
    "sports_user_score = data.query('(year_of_release >= 2012 ) & (genre == \"sports\") & (user_score > 0)')['user_score']"
   ]
  },
  {
   "cell_type": "markdown",
   "id": "0b05f162",
   "metadata": {},
   "source": [
    "### Hypothesis testing"
   ]
  },
  {
   "cell_type": "code",
   "execution_count": 99,
   "id": "0b8ff77a",
   "metadata": {},
   "outputs": [
    {
     "name": "stdout",
     "output_type": "stream",
     "text": [
      "H1 is not refuted => average user ratings of the two genres are equal!\n"
     ]
    }
   ],
   "source": [
    "alpha = 0.05\n",
    "result = scipy.stats.ttest_ind(action_user_score, sports_user_score)\n",
    "if(result.pvalue < alpha):\n",
    "    print(\"H0 refuted => average user ratings of the two genres are not equal!\")\n",
    "else:\n",
    "    print(\"H1 is not refuted => average user ratings of the two genres are equal!\")"
   ]
  },
  {
   "cell_type": "markdown",
   "id": "488dfb89",
   "metadata": {},
   "source": [
    "<a id = 'concl'></a>\n",
    "<b> Intermediate conclusion: </b> \n",
    "\n",
    "Since we are comparing two independent datasets, we use scipy.stats.ttest_ind(). alpha is set to 0.05. \n",
    "After comparing pvalue and alpha, we realize that the average user ratings of the two genres are not equal"
   ]
  },
  {
   "cell_type": "markdown",
   "id": "43fc5826",
   "metadata": {},
   "source": [
    "# General conslusion  "
   ]
  },
  {
   "cell_type": "markdown",
   "id": "df0a6e6a",
   "metadata": {},
   "source": [
    "<a id = \"prepocessing\"> </a>\n",
    "## Data loading and preprocessing\n",
    "\n",
    "While examining the general information about the dataset, we found omissions as well as incorrect data types.  \n",
    "\n",
    "Gaps in the columns (rating, genre, name, platform) where we cannot find the average value were filled with empty values, which in the next steps helped us to ignore the rows with gaps. We can't delete these rows, as we would lose other valuable information.  \n",
    "The gaps in other columns (user_score, critic_score) were filled with mean values, as these data had a normal distribution.\n",
    "\n",
    "Incorrect data types were corrected:  \n",
    "year_of_release (float - int)  \n",
    "user_score (object - float)\n",
    "\n",
    "The work at this stage was done without any problems"
   ]
  },
  {
   "cell_type": "markdown",
   "id": "b9a235d5",
   "metadata": {},
   "source": [
    "<a id = \"research\"> </a>\n",
    "<h2>Research Data Analysis</h2>\n",
    "\n",
    "At this stage, an exploratory analysis of the data was conducted, identifying relevant timeframes to study, popular and up-and-coming platforms, the impact of reviews on game sales, and sales by genre\n",
    "\n",
    "<h4>Game launches by year:</h4>  \n",
    "Games started selling massively in 1990. Sales peaked between 2010 and 2015  \n",
    "\n",
    "<h4>Sales by platform:</h4>  \n",
    "The life of the platform (the period from appearance to disappearance from the top) - 7-9 years were revealed. In recent years, these terms have become shorter due to the rapid development of technology and frequent appearance of competing platforms. \n",
    "\n",
    "The study of platforms helped us to identify promising platforms for the next year:  \n",
    "1. PS4 (the top platform that holds the majority of game fans, even if a decent analog comes out it will take years for them to leave PS4)\n",
    "2. XONE (the top platform that holds the majority of game fans, even if a decent analog comes out it will take years for them to leave XONE)\n",
    "3. PC (developing platform, release of iconic games from 2010-2016 on console, soon release on PC => influx of large number of customers)\n",
    "4. 3DS (no worthy analogs, very popular in Japan)\n",
    "\n",
    "<h4>Impact of reviews on sales:</h4>  \n",
    "Critic reviews do have an impact on sales (corr ~ 0.34), but player reviews have almost no impact (corr ~ -0.04).\n",
    "\n",
    "<h4>Popularity of genres:</h4>  \n",
    "action, sports, shooter - the most popular genres  \n",
    "strategy is the most unpopular genre"
   ]
  },
  {
   "cell_type": "markdown",
   "id": "302461e6",
   "metadata": {},
   "source": [
    "<a id = \"portrait\"> </a>\n",
    "## User Portraits by Region\n",
    "\n",
    "We compared the interests of users from three regions: North America, Europe and Japan, in general the interests of players from the first two regions are similar, which cannot be said about Japan - their interests are drastically different\n",
    "\n",
    "<h4>Interest in platforms:</h4>  \n",
    "\n",
    "PS3, x360, wii - the most interesting platforms for Americans and Europeans    \n",
    "3ds, ds, ps3 - for the Japanese.\n",
    "\n",
    "<h4>Interest in genres:</h4> \n",
    "\n",
    "The interests of the American and European audiences are pretty much the same, except for the 4th and 5th places (they differ in places).    \n",
    "Japan's audiences are different again.  \n",
    "Top genres for America and Europe:  \n",
    "Action, shooter, sports  \n",
    "Top genres for Japan:  \n",
    "role-playing, action, misc\n",
    "\n",
    "<h4>ERSB Rating:</h4> \n",
    "\n",
    "ESRB ranking affects sales in America and Europe almost equally, the rankings are prioritized by user interests:  \n",
    "1. m  \n",
    "2. e  \n",
    "3. not Found  \n",
    "4. e10+ / t\n",
    "5. t / e10+\n",
    "\n",
    "Users from Japan have different interests:  \n",
    "1. Not Found  \n",
    "2. e\n",
    "3. t  \n",
    "4. m  \n",
    "5. e10+  \n",
    "\n",
    "Not Found in Japan is explained by the presence of locally popular games that are not noticed by the rating organization\n",
    "\n",
    "This data helps to understand which games are of interest to people from different regions, so that the company can focus on the right positions and increase sales and therefore profits. "
   ]
  },
  {
   "cell_type": "markdown",
   "id": "89318940",
   "metadata": {},
   "source": [
    "<a id = 'hyp'></a>\n",
    "<h2>Hypothesis testing: </h2>\n",
    "\n",
    "<h4>1. The average user ratings of Xbox One and PC platforms are the same</h4>\n",
    "\n",
    "H0 - ratings are equal  \n",
    "H1 - the ratings of the first platform are less or greater than the ratings of the second platform (two-sided alternative hypothesis)\n",
    "\n",
    "We applied ttest_ind because the populations are separate, independent of each other.   \n",
    "Result: the null hypothesis is refuted => the ratings of the two platforms are different\n",
    "\n",
    "<h4>2. Average user ratings of Action and Sports genres are different</h4>\n",
    "\n",
    "H0 - ratings are equal  \n",
    "H1 - ratings of the first platform are less than or greater than ratings of the second (two-sided alternative hypothesis)\n",
    "\n",
    "We applied ttest_ind because the populations are separate, independent of each other.   \n",
    "Result: the null hypothesis is not refuted => the ratings of the two platforms are equal"
   ]
  },
  {
   "cell_type": "markdown",
   "id": "003a2353",
   "metadata": {},
   "source": [
    "<a id = “final_concl”> </a>\n",
    "## Conclusion: \n",
    "\n",
    "In 2017, it is worth focusing on the following market segments(If a parameter has multiple values, they are prioritized in descending order of priority):\n",
    "\n",
    "\n",
    "<b>North America:</b>   \n",
    "\n",
    "<b>Platform:</b> x360, ps4, ps3, PC  \n",
    "<b>Genre: </b> action, shooter, sport  \n",
    "<b>ESRB: </b> m,e, e10+, t  \n",
    "\n",
    "<b>Europe:</b>   \n",
    "\n",
    "<b>Platform:</b> ps4, ps3, x360, PC  \n",
    "<b>Genre: </b> action, shooter, sport   \n",
    "<b>ESRB: </b> m,e, t, e10+\n",
    "\n",
    "<b>Japan:</b>   \n",
    "\n",
    "<b>Platform:</b> 3ds, ps3, psv, PC  \n",
    "<b>Genre: </b> Roleplay, shooter, misc  \n",
    "<b>ESRB: </b> e, t, m,e10+"
   ]
  }
 ],
 "metadata": {
  "ExecuteTimeLog": [
   {
    "duration": 794,
    "start_time": "2024-04-19T12:02:02.634Z"
   },
   {
    "duration": 137,
    "start_time": "2024-04-19T12:02:03.430Z"
   },
   {
    "duration": 15,
    "start_time": "2024-04-19T12:02:03.568Z"
   },
   {
    "duration": 16,
    "start_time": "2024-04-19T12:02:03.585Z"
   },
   {
    "duration": 17,
    "start_time": "2024-04-19T12:02:03.602Z"
   },
   {
    "duration": 5,
    "start_time": "2024-04-19T12:02:03.620Z"
   },
   {
    "duration": 16,
    "start_time": "2024-04-19T12:02:03.626Z"
   },
   {
    "duration": 21,
    "start_time": "2024-04-19T12:02:03.643Z"
   },
   {
    "duration": 19,
    "start_time": "2024-04-19T12:02:03.665Z"
   },
   {
    "duration": 13,
    "start_time": "2024-04-19T12:02:03.687Z"
   },
   {
    "duration": 3,
    "start_time": "2024-04-19T12:02:03.701Z"
   },
   {
    "duration": 39,
    "start_time": "2024-04-19T12:02:03.705Z"
   },
   {
    "duration": 9,
    "start_time": "2024-04-19T12:02:03.746Z"
   },
   {
    "duration": 36,
    "start_time": "2024-04-19T12:02:03.756Z"
   },
   {
    "duration": 8,
    "start_time": "2024-04-19T12:02:03.793Z"
   },
   {
    "duration": 23,
    "start_time": "2024-04-19T12:02:03.802Z"
   },
   {
    "duration": 192,
    "start_time": "2024-04-19T12:02:03.827Z"
   },
   {
    "duration": 5,
    "start_time": "2024-04-19T12:02:04.020Z"
   },
   {
    "duration": 11,
    "start_time": "2024-04-19T12:02:04.027Z"
   },
   {
    "duration": 5,
    "start_time": "2024-04-19T12:02:04.039Z"
   },
   {
    "duration": 29,
    "start_time": "2024-04-19T12:02:04.045Z"
   },
   {
    "duration": 150,
    "start_time": "2024-04-19T12:02:04.083Z"
   },
   {
    "duration": 1356,
    "start_time": "2024-04-19T12:02:04.235Z"
   },
   {
    "duration": 70,
    "start_time": "2024-04-19T12:02:05.592Z"
   },
   {
    "duration": 144,
    "start_time": "2024-04-19T12:02:05.664Z"
   },
   {
    "duration": 57,
    "start_time": "2024-04-19T12:02:05.809Z"
   },
   {
    "duration": 123,
    "start_time": "2024-04-19T12:02:05.881Z"
   },
   {
    "duration": 154,
    "start_time": "2024-04-19T12:02:06.007Z"
   },
   {
    "duration": 5,
    "start_time": "2024-04-19T12:02:06.162Z"
   },
   {
    "duration": 150,
    "start_time": "2024-04-19T12:02:06.168Z"
   },
   {
    "duration": 4,
    "start_time": "2024-04-19T12:02:06.320Z"
   },
   {
    "duration": 177,
    "start_time": "2024-04-19T12:02:06.326Z"
   },
   {
    "duration": 10,
    "start_time": "2024-04-19T12:02:06.505Z"
   },
   {
    "duration": 10,
    "start_time": "2024-04-19T12:02:06.517Z"
   },
   {
    "duration": 109,
    "start_time": "2024-04-19T12:02:06.529Z"
   },
   {
    "duration": 97,
    "start_time": "2024-04-19T12:02:06.640Z"
   },
   {
    "duration": 97,
    "start_time": "2024-04-19T12:02:06.738Z"
   },
   {
    "duration": 12,
    "start_time": "2024-04-19T12:02:06.836Z"
   },
   {
    "duration": 8,
    "start_time": "2024-04-19T12:02:06.850Z"
   },
   {
    "duration": 36,
    "start_time": "2024-04-19T12:02:06.859Z"
   },
   {
    "duration": 10,
    "start_time": "2024-04-19T12:02:06.897Z"
   },
   {
    "duration": 7,
    "start_time": "2024-04-19T12:02:06.909Z"
   },
   {
    "duration": 26,
    "start_time": "2024-04-19T12:02:06.917Z"
   },
   {
    "duration": 11,
    "start_time": "2024-04-19T12:02:06.944Z"
   },
   {
    "duration": 515,
    "start_time": "2024-04-19T12:02:06.956Z"
   },
   {
    "duration": 16,
    "start_time": "2024-04-19T12:02:07.473Z"
   },
   {
    "duration": 5,
    "start_time": "2024-04-19T12:02:07.491Z"
   },
   {
    "duration": 3,
    "start_time": "2024-04-19T12:32:56.420Z"
   },
   {
    "duration": 92,
    "start_time": "2024-04-19T12:32:56.425Z"
   },
   {
    "duration": 14,
    "start_time": "2024-04-19T12:32:56.519Z"
   },
   {
    "duration": 14,
    "start_time": "2024-04-19T12:32:56.534Z"
   },
   {
    "duration": 5,
    "start_time": "2024-04-19T12:32:56.550Z"
   },
   {
    "duration": 28,
    "start_time": "2024-04-19T12:32:56.556Z"
   },
   {
    "duration": 14,
    "start_time": "2024-04-19T12:32:56.585Z"
   },
   {
    "duration": 21,
    "start_time": "2024-04-19T12:32:56.600Z"
   },
   {
    "duration": 18,
    "start_time": "2024-04-19T12:32:56.623Z"
   },
   {
    "duration": 41,
    "start_time": "2024-04-19T12:32:56.642Z"
   },
   {
    "duration": 13,
    "start_time": "2024-04-19T12:32:56.685Z"
   },
   {
    "duration": 28,
    "start_time": "2024-04-19T12:32:56.700Z"
   },
   {
    "duration": 50,
    "start_time": "2024-04-19T12:32:56.729Z"
   },
   {
    "duration": 9,
    "start_time": "2024-04-19T12:32:56.781Z"
   },
   {
    "duration": 35,
    "start_time": "2024-04-19T12:32:56.791Z"
   },
   {
    "duration": 8,
    "start_time": "2024-04-19T12:32:56.828Z"
   },
   {
    "duration": 13,
    "start_time": "2024-04-19T12:32:56.838Z"
   },
   {
    "duration": 178,
    "start_time": "2024-04-19T12:32:56.853Z"
   },
   {
    "duration": 5,
    "start_time": "2024-04-19T12:32:57.032Z"
   },
   {
    "duration": 15,
    "start_time": "2024-04-19T12:32:57.038Z"
   },
   {
    "duration": 4,
    "start_time": "2024-04-19T12:32:57.055Z"
   },
   {
    "duration": 32,
    "start_time": "2024-04-19T12:32:57.060Z"
   },
   {
    "duration": 161,
    "start_time": "2024-04-19T12:32:57.094Z"
   },
   {
    "duration": 1338,
    "start_time": "2024-04-19T12:32:57.257Z"
   },
   {
    "duration": 75,
    "start_time": "2024-04-19T12:32:58.596Z"
   },
   {
    "duration": 88,
    "start_time": "2024-04-19T12:32:58.672Z"
   },
   {
    "duration": 71,
    "start_time": "2024-04-19T12:32:58.762Z"
   },
   {
    "duration": 112,
    "start_time": "2024-04-19T12:32:58.835Z"
   },
   {
    "duration": 159,
    "start_time": "2024-04-19T12:32:58.950Z"
   },
   {
    "duration": 3,
    "start_time": "2024-04-19T12:32:59.111Z"
   },
   {
    "duration": 156,
    "start_time": "2024-04-19T12:32:59.116Z"
   },
   {
    "duration": 8,
    "start_time": "2024-04-19T12:32:59.274Z"
   },
   {
    "duration": 173,
    "start_time": "2024-04-19T12:32:59.284Z"
   },
   {
    "duration": 9,
    "start_time": "2024-04-19T12:32:59.458Z"
   },
   {
    "duration": 17,
    "start_time": "2024-04-19T12:32:59.469Z"
   },
   {
    "duration": 96,
    "start_time": "2024-04-19T12:32:59.488Z"
   },
   {
    "duration": 97,
    "start_time": "2024-04-19T12:32:59.585Z"
   },
   {
    "duration": 175,
    "start_time": "2024-04-19T12:32:59.684Z"
   },
   {
    "duration": 10,
    "start_time": "2024-04-19T12:32:59.861Z"
   },
   {
    "duration": 7,
    "start_time": "2024-04-19T12:32:59.881Z"
   },
   {
    "duration": 20,
    "start_time": "2024-04-19T12:32:59.890Z"
   },
   {
    "duration": 14,
    "start_time": "2024-04-19T12:32:59.912Z"
   },
   {
    "duration": 10,
    "start_time": "2024-04-19T12:32:59.928Z"
   },
   {
    "duration": 50,
    "start_time": "2024-04-19T12:32:59.940Z"
   },
   {
    "duration": 11,
    "start_time": "2024-04-19T12:32:59.991Z"
   },
   {
    "duration": 39,
    "start_time": "2024-04-19T12:33:00.004Z"
   },
   {
    "duration": 43,
    "start_time": "2024-04-19T12:33:00.045Z"
   },
   {
    "duration": 33,
    "start_time": "2024-04-19T12:33:00.090Z"
   },
   {
    "duration": 18,
    "start_time": "2024-04-19T12:33:28.406Z"
   },
   {
    "duration": 3,
    "start_time": "2024-04-19T12:33:33.359Z"
   },
   {
    "duration": 99,
    "start_time": "2024-04-19T12:33:33.364Z"
   },
   {
    "duration": 14,
    "start_time": "2024-04-19T12:33:33.465Z"
   },
   {
    "duration": 13,
    "start_time": "2024-04-19T12:33:33.480Z"
   },
   {
    "duration": 3,
    "start_time": "2024-04-19T12:33:33.496Z"
   },
   {
    "duration": 7,
    "start_time": "2024-04-19T12:33:33.501Z"
   },
   {
    "duration": 17,
    "start_time": "2024-04-19T12:33:33.510Z"
   },
   {
    "duration": 27,
    "start_time": "2024-04-19T12:33:33.528Z"
   },
   {
    "duration": 118,
    "start_time": "2024-04-19T12:34:00.959Z"
   },
   {
    "duration": 33,
    "start_time": "2024-04-19T12:34:14.243Z"
   },
   {
    "duration": 4,
    "start_time": "2024-04-19T12:34:20.495Z"
   },
   {
    "duration": 99,
    "start_time": "2024-04-19T12:34:20.500Z"
   },
   {
    "duration": 15,
    "start_time": "2024-04-19T12:34:20.601Z"
   },
   {
    "duration": 15,
    "start_time": "2024-04-19T12:34:20.617Z"
   },
   {
    "duration": 4,
    "start_time": "2024-04-19T12:34:20.634Z"
   },
   {
    "duration": 6,
    "start_time": "2024-04-19T12:34:20.639Z"
   },
   {
    "duration": 12,
    "start_time": "2024-04-19T12:34:20.646Z"
   },
   {
    "duration": 61,
    "start_time": "2024-04-19T12:34:20.660Z"
   },
   {
    "duration": 622,
    "start_time": "2024-04-19T12:36:21.423Z"
   },
   {
    "duration": 83,
    "start_time": "2024-04-19T12:36:22.047Z"
   },
   {
    "duration": 14,
    "start_time": "2024-04-19T12:36:22.132Z"
   },
   {
    "duration": 20,
    "start_time": "2024-04-19T12:36:22.148Z"
   },
   {
    "duration": 4,
    "start_time": "2024-04-19T12:36:22.169Z"
   },
   {
    "duration": 10,
    "start_time": "2024-04-19T12:36:22.174Z"
   },
   {
    "duration": 18,
    "start_time": "2024-04-19T12:36:22.185Z"
   },
   {
    "duration": 18,
    "start_time": "2024-04-19T12:36:22.205Z"
   },
   {
    "duration": 17,
    "start_time": "2024-04-19T12:36:22.224Z"
   },
   {
    "duration": 14,
    "start_time": "2024-04-19T12:36:22.243Z"
   },
   {
    "duration": 25,
    "start_time": "2024-04-19T12:36:22.258Z"
   },
   {
    "duration": 32,
    "start_time": "2024-04-19T12:36:22.284Z"
   },
   {
    "duration": 8,
    "start_time": "2024-04-19T12:36:22.318Z"
   },
   {
    "duration": 21,
    "start_time": "2024-04-19T12:36:22.328Z"
   },
   {
    "duration": 31,
    "start_time": "2024-04-19T12:36:22.351Z"
   },
   {
    "duration": 11,
    "start_time": "2024-04-19T12:36:22.384Z"
   },
   {
    "duration": 208,
    "start_time": "2024-04-19T12:36:22.397Z"
   },
   {
    "duration": 5,
    "start_time": "2024-04-19T12:36:22.606Z"
   },
   {
    "duration": 37,
    "start_time": "2024-04-19T12:36:22.612Z"
   },
   {
    "duration": 21,
    "start_time": "2024-04-19T12:36:22.651Z"
   },
   {
    "duration": 22,
    "start_time": "2024-04-19T12:36:22.673Z"
   },
   {
    "duration": 147,
    "start_time": "2024-04-19T12:36:22.697Z"
   },
   {
    "duration": 1437,
    "start_time": "2024-04-19T12:36:22.846Z"
   },
   {
    "duration": 67,
    "start_time": "2024-04-19T12:36:24.285Z"
   },
   {
    "duration": 139,
    "start_time": "2024-04-19T12:36:24.353Z"
   },
   {
    "duration": 55,
    "start_time": "2024-04-19T12:36:24.493Z"
   },
   {
    "duration": 118,
    "start_time": "2024-04-19T12:36:24.549Z"
   },
   {
    "duration": 151,
    "start_time": "2024-04-19T12:36:24.671Z"
   },
   {
    "duration": 5,
    "start_time": "2024-04-19T12:36:24.823Z"
   },
   {
    "duration": 160,
    "start_time": "2024-04-19T12:36:24.829Z"
   },
   {
    "duration": 4,
    "start_time": "2024-04-19T12:36:24.991Z"
   },
   {
    "duration": 191,
    "start_time": "2024-04-19T12:36:24.997Z"
   },
   {
    "duration": 10,
    "start_time": "2024-04-19T12:36:25.190Z"
   },
   {
    "duration": 15,
    "start_time": "2024-04-19T12:36:25.202Z"
   },
   {
    "duration": 111,
    "start_time": "2024-04-19T12:36:25.219Z"
   },
   {
    "duration": 106,
    "start_time": "2024-04-19T12:36:25.332Z"
   },
   {
    "duration": 110,
    "start_time": "2024-04-19T12:36:25.441Z"
   },
   {
    "duration": 8,
    "start_time": "2024-04-19T12:36:25.553Z"
   },
   {
    "duration": 16,
    "start_time": "2024-04-19T12:36:25.563Z"
   },
   {
    "duration": 23,
    "start_time": "2024-04-19T12:36:25.580Z"
   },
   {
    "duration": 18,
    "start_time": "2024-04-19T12:36:25.604Z"
   },
   {
    "duration": 6,
    "start_time": "2024-04-19T12:36:25.624Z"
   },
   {
    "duration": 32,
    "start_time": "2024-04-19T12:36:25.631Z"
   },
   {
    "duration": 17,
    "start_time": "2024-04-19T12:36:25.665Z"
   },
   {
    "duration": 462,
    "start_time": "2024-04-19T12:36:25.684Z"
   },
   {
    "duration": 11,
    "start_time": "2024-04-19T12:36:26.148Z"
   },
   {
    "duration": 6,
    "start_time": "2024-04-19T12:36:26.161Z"
   },
   {
    "duration": 88,
    "start_time": "2024-04-19T15:59:18.883Z"
   },
   {
    "duration": 380,
    "start_time": "2024-04-19T16:00:31.173Z"
   },
   {
    "duration": 84,
    "start_time": "2024-04-19T16:02:14.602Z"
   },
   {
    "duration": 98,
    "start_time": "2024-04-19T16:21:41.596Z"
   },
   {
    "duration": 48,
    "start_time": "2024-04-19T16:23:06.182Z"
   },
   {
    "duration": 858,
    "start_time": "2024-04-19T16:23:11.133Z"
   },
   {
    "duration": 254,
    "start_time": "2024-04-19T16:23:11.993Z"
   },
   {
    "duration": 22,
    "start_time": "2024-04-19T16:23:12.249Z"
   },
   {
    "duration": 18,
    "start_time": "2024-04-19T16:23:12.273Z"
   },
   {
    "duration": 4,
    "start_time": "2024-04-19T16:23:12.292Z"
   },
   {
    "duration": 6,
    "start_time": "2024-04-19T16:23:12.297Z"
   },
   {
    "duration": 13,
    "start_time": "2024-04-19T16:23:12.304Z"
   },
   {
    "duration": 16,
    "start_time": "2024-04-19T16:23:12.319Z"
   },
   {
    "duration": 49,
    "start_time": "2024-04-19T16:23:12.336Z"
   },
   {
    "duration": 14,
    "start_time": "2024-04-19T16:23:12.388Z"
   },
   {
    "duration": 3,
    "start_time": "2024-04-19T16:23:12.462Z"
   },
   {
    "duration": 8,
    "start_time": "2024-04-19T16:23:12.713Z"
   },
   {
    "duration": 18,
    "start_time": "2024-04-19T16:23:12.809Z"
   },
   {
    "duration": 8,
    "start_time": "2024-04-19T16:23:12.898Z"
   },
   {
    "duration": 9,
    "start_time": "2024-04-19T16:23:12.958Z"
   },
   {
    "duration": 176,
    "start_time": "2024-04-19T16:23:13.061Z"
   },
   {
    "duration": 9,
    "start_time": "2024-04-19T16:23:15.489Z"
   },
   {
    "duration": 8,
    "start_time": "2024-04-19T16:23:17.731Z"
   },
   {
    "duration": 4,
    "start_time": "2024-04-19T16:23:18.938Z"
   },
   {
    "duration": 5,
    "start_time": "2024-04-19T16:23:26.574Z"
   },
   {
    "duration": 4,
    "start_time": "2024-04-19T16:23:29.656Z"
   },
   {
    "duration": 176,
    "start_time": "2024-04-19T16:26:16.674Z"
   },
   {
    "duration": 7,
    "start_time": "2024-04-19T16:26:53.534Z"
   },
   {
    "duration": 13,
    "start_time": "2024-04-19T16:27:01.568Z"
   },
   {
    "duration": 11,
    "start_time": "2024-04-19T16:27:10.400Z"
   },
   {
    "duration": 8,
    "start_time": "2024-04-19T16:27:13.913Z"
   },
   {
    "duration": 3,
    "start_time": "2024-04-19T16:27:22.206Z"
   },
   {
    "duration": 91,
    "start_time": "2024-04-19T16:27:22.334Z"
   },
   {
    "duration": 12,
    "start_time": "2024-04-19T16:27:22.468Z"
   },
   {
    "duration": 13,
    "start_time": "2024-04-19T16:27:22.652Z"
   },
   {
    "duration": 3,
    "start_time": "2024-04-19T16:27:22.742Z"
   },
   {
    "duration": 4,
    "start_time": "2024-04-19T16:27:22.958Z"
   },
   {
    "duration": 12,
    "start_time": "2024-04-19T16:27:23.115Z"
   },
   {
    "duration": 15,
    "start_time": "2024-04-19T16:27:23.397Z"
   },
   {
    "duration": 16,
    "start_time": "2024-04-19T16:27:23.764Z"
   },
   {
    "duration": 13,
    "start_time": "2024-04-19T16:27:25.188Z"
   },
   {
    "duration": 2,
    "start_time": "2024-04-19T16:27:26.549Z"
   },
   {
    "duration": 9,
    "start_time": "2024-04-19T16:27:28.600Z"
   },
   {
    "duration": 19,
    "start_time": "2024-04-19T16:27:29.902Z"
   },
   {
    "duration": 6,
    "start_time": "2024-04-19T16:27:31.309Z"
   },
   {
    "duration": 9,
    "start_time": "2024-04-19T16:27:32.130Z"
   },
   {
    "duration": 186,
    "start_time": "2024-04-19T16:27:33.271Z"
   },
   {
    "duration": 8,
    "start_time": "2024-04-19T16:28:26.059Z"
   },
   {
    "duration": 9,
    "start_time": "2024-04-19T16:28:36.070Z"
   },
   {
    "duration": 200,
    "start_time": "2024-04-19T16:28:58.558Z"
   },
   {
    "duration": 6,
    "start_time": "2024-04-19T16:29:03.612Z"
   },
   {
    "duration": 7,
    "start_time": "2024-04-19T16:29:47.928Z"
   },
   {
    "duration": 45,
    "start_time": "2024-04-19T16:31:07.188Z"
   },
   {
    "duration": 5,
    "start_time": "2024-04-19T16:31:18.402Z"
   },
   {
    "duration": 6,
    "start_time": "2024-04-19T16:31:24.824Z"
   },
   {
    "duration": 8,
    "start_time": "2024-04-19T16:46:00.721Z"
   },
   {
    "duration": 3,
    "start_time": "2024-04-19T16:46:10.552Z"
   },
   {
    "duration": 102,
    "start_time": "2024-04-19T16:46:10.673Z"
   },
   {
    "duration": 15,
    "start_time": "2024-04-19T16:46:10.799Z"
   },
   {
    "duration": 14,
    "start_time": "2024-04-19T16:46:10.989Z"
   },
   {
    "duration": 2,
    "start_time": "2024-04-19T16:46:11.081Z"
   },
   {
    "duration": 4,
    "start_time": "2024-04-19T16:46:11.291Z"
   },
   {
    "duration": 14,
    "start_time": "2024-04-19T16:46:11.443Z"
   },
   {
    "duration": 22,
    "start_time": "2024-04-19T16:46:11.599Z"
   },
   {
    "duration": 20,
    "start_time": "2024-04-19T16:46:11.667Z"
   },
   {
    "duration": 17,
    "start_time": "2024-04-19T16:46:11.723Z"
   },
   {
    "duration": 3,
    "start_time": "2024-04-19T16:46:11.880Z"
   },
   {
    "duration": 8,
    "start_time": "2024-04-19T16:46:12.125Z"
   },
   {
    "duration": 18,
    "start_time": "2024-04-19T16:46:12.216Z"
   },
   {
    "duration": 8,
    "start_time": "2024-04-19T16:46:12.310Z"
   },
   {
    "duration": 13,
    "start_time": "2024-04-19T16:46:12.378Z"
   },
   {
    "duration": 172,
    "start_time": "2024-04-19T16:46:12.467Z"
   },
   {
    "duration": 2,
    "start_time": "2024-04-19T16:46:12.641Z"
   },
   {
    "duration": 10,
    "start_time": "2024-04-19T16:46:12.836Z"
   },
   {
    "duration": 5,
    "start_time": "2024-04-19T16:46:12.898Z"
   },
   {
    "duration": 15,
    "start_time": "2024-04-19T16:46:13.174Z"
   },
   {
    "duration": 141,
    "start_time": "2024-04-19T16:46:13.301Z"
   },
   {
    "duration": 1396,
    "start_time": "2024-04-19T16:46:13.485Z"
   },
   {
    "duration": 73,
    "start_time": "2024-04-19T16:46:14.883Z"
   },
   {
    "duration": 79,
    "start_time": "2024-04-19T16:46:14.957Z"
   },
   {
    "duration": 72,
    "start_time": "2024-04-19T16:46:15.038Z"
   },
   {
    "duration": 119,
    "start_time": "2024-04-19T16:46:15.111Z"
   },
   {
    "duration": 149,
    "start_time": "2024-04-19T16:46:15.231Z"
   },
   {
    "duration": 3,
    "start_time": "2024-04-19T16:46:15.382Z"
   },
   {
    "duration": 183,
    "start_time": "2024-04-19T16:46:15.387Z"
   },
   {
    "duration": 4,
    "start_time": "2024-04-19T16:46:15.572Z"
   },
   {
    "duration": 181,
    "start_time": "2024-04-19T16:46:15.579Z"
   },
   {
    "duration": 13,
    "start_time": "2024-04-19T16:46:15.763Z"
   },
   {
    "duration": 8,
    "start_time": "2024-04-19T16:46:15.778Z"
   },
   {
    "duration": 105,
    "start_time": "2024-04-19T16:46:15.788Z"
   },
   {
    "duration": 8,
    "start_time": "2024-04-19T16:46:15.894Z"
   },
   {
    "duration": 0,
    "start_time": "2024-04-19T16:46:15.904Z"
   },
   {
    "duration": 0,
    "start_time": "2024-04-19T16:46:15.905Z"
   },
   {
    "duration": 0,
    "start_time": "2024-04-19T16:46:15.906Z"
   },
   {
    "duration": 0,
    "start_time": "2024-04-19T16:46:15.907Z"
   },
   {
    "duration": 0,
    "start_time": "2024-04-19T16:46:15.908Z"
   },
   {
    "duration": 0,
    "start_time": "2024-04-19T16:46:15.909Z"
   },
   {
    "duration": 0,
    "start_time": "2024-04-19T16:46:15.910Z"
   },
   {
    "duration": 0,
    "start_time": "2024-04-19T16:46:15.911Z"
   },
   {
    "duration": 573,
    "start_time": "2024-04-19T16:46:15.918Z"
   },
   {
    "duration": 0,
    "start_time": "2024-04-19T16:46:16.493Z"
   },
   {
    "duration": 8,
    "start_time": "2024-04-19T16:46:16.770Z"
   },
   {
    "duration": 9,
    "start_time": "2024-04-19T16:46:40.074Z"
   },
   {
    "duration": 90,
    "start_time": "2024-04-19T16:46:42.810Z"
   },
   {
    "duration": 106,
    "start_time": "2024-04-19T16:46:49.276Z"
   },
   {
    "duration": 111,
    "start_time": "2024-04-19T16:47:13.802Z"
   },
   {
    "duration": 93,
    "start_time": "2024-04-19T16:47:38.675Z"
   },
   {
    "duration": 9,
    "start_time": "2024-04-19T16:47:49.754Z"
   },
   {
    "duration": 12,
    "start_time": "2024-04-19T16:48:02.494Z"
   },
   {
    "duration": 7,
    "start_time": "2024-04-19T16:48:03.438Z"
   },
   {
    "duration": 15,
    "start_time": "2024-04-19T16:48:04.423Z"
   },
   {
    "duration": 16,
    "start_time": "2024-04-19T16:53:54.079Z"
   },
   {
    "duration": 1136,
    "start_time": "2024-04-19T16:56:13.930Z"
   },
   {
    "duration": 32,
    "start_time": "2024-04-19T16:56:24.774Z"
   },
   {
    "duration": 32,
    "start_time": "2024-04-19T16:56:45.142Z"
   },
   {
    "duration": 156,
    "start_time": "2024-04-19T16:56:46.066Z"
   },
   {
    "duration": 38,
    "start_time": "2024-04-19T16:57:45.146Z"
   },
   {
    "duration": 29,
    "start_time": "2024-04-19T16:58:19.123Z"
   },
   {
    "duration": 44,
    "start_time": "2024-04-19T17:17:45.761Z"
   },
   {
    "duration": 109,
    "start_time": "2024-04-19T17:21:00.670Z"
   },
   {
    "duration": 77,
    "start_time": "2024-04-19T17:24:17.055Z"
   },
   {
    "duration": 294,
    "start_time": "2024-04-19T17:24:35.381Z"
   },
   {
    "duration": 26,
    "start_time": "2024-04-19T17:24:43.486Z"
   },
   {
    "duration": 80,
    "start_time": "2024-04-19T17:25:08.953Z"
   },
   {
    "duration": 336,
    "start_time": "2024-04-19T17:25:21.538Z"
   },
   {
    "duration": 292,
    "start_time": "2024-04-19T17:26:01.414Z"
   },
   {
    "duration": 345,
    "start_time": "2024-04-19T17:27:12.467Z"
   },
   {
    "duration": 336,
    "start_time": "2024-04-19T17:27:16.828Z"
   },
   {
    "duration": 379,
    "start_time": "2024-04-19T17:29:53.703Z"
   },
   {
    "duration": 120,
    "start_time": "2024-04-19T17:30:47.756Z"
   },
   {
    "duration": 281,
    "start_time": "2024-04-19T17:31:17.510Z"
   },
   {
    "duration": 121,
    "start_time": "2024-04-19T17:32:00.027Z"
   },
   {
    "duration": 23,
    "start_time": "2024-04-19T17:32:37.877Z"
   },
   {
    "duration": 121,
    "start_time": "2024-04-19T17:32:42.413Z"
   },
   {
    "duration": 225,
    "start_time": "2024-04-19T17:33:27.568Z"
   },
   {
    "duration": 129,
    "start_time": "2024-04-19T17:34:31.956Z"
   },
   {
    "duration": 226,
    "start_time": "2024-04-19T17:34:45.913Z"
   },
   {
    "duration": 1508,
    "start_time": "2024-04-19T17:34:53.969Z"
   },
   {
    "duration": 77,
    "start_time": "2024-04-19T17:35:11.853Z"
   },
   {
    "duration": 65,
    "start_time": "2024-04-19T17:35:26.834Z"
   },
   {
    "duration": 99,
    "start_time": "2024-04-19T17:35:52.929Z"
   },
   {
    "duration": 92,
    "start_time": "2024-04-19T17:36:02.114Z"
   },
   {
    "duration": 275,
    "start_time": "2024-04-19T17:39:35.931Z"
   },
   {
    "duration": 117,
    "start_time": "2024-04-19T17:39:41.946Z"
   },
   {
    "duration": 356,
    "start_time": "2024-04-19T17:39:47.907Z"
   },
   {
    "duration": 62,
    "start_time": "2024-04-19T17:42:19.732Z"
   },
   {
    "duration": 1811,
    "start_time": "2024-04-19T17:42:29.912Z"
   },
   {
    "duration": 1681,
    "start_time": "2024-04-19T17:42:50.001Z"
   },
   {
    "duration": 24,
    "start_time": "2024-04-19T17:43:05.900Z"
   },
   {
    "duration": 3,
    "start_time": "2024-04-19T17:43:25.434Z"
   },
   {
    "duration": 125,
    "start_time": "2024-04-19T17:43:28.146Z"
   },
   {
    "duration": 2,
    "start_time": "2024-04-19T17:43:42.861Z"
   },
   {
    "duration": 104,
    "start_time": "2024-04-19T17:43:42.983Z"
   },
   {
    "duration": 16,
    "start_time": "2024-04-19T17:43:43.112Z"
   },
   {
    "duration": 14,
    "start_time": "2024-04-19T17:43:43.302Z"
   },
   {
    "duration": 3,
    "start_time": "2024-04-19T17:43:43.386Z"
   },
   {
    "duration": 4,
    "start_time": "2024-04-19T17:43:43.602Z"
   },
   {
    "duration": 10,
    "start_time": "2024-04-19T17:43:43.755Z"
   },
   {
    "duration": 16,
    "start_time": "2024-04-19T17:43:43.906Z"
   },
   {
    "duration": 17,
    "start_time": "2024-04-19T17:43:43.973Z"
   },
   {
    "duration": 19,
    "start_time": "2024-04-19T17:43:44.031Z"
   },
   {
    "duration": 3,
    "start_time": "2024-04-19T17:43:44.188Z"
   },
   {
    "duration": 12,
    "start_time": "2024-04-19T17:43:44.430Z"
   },
   {
    "duration": 25,
    "start_time": "2024-04-19T17:43:44.525Z"
   },
   {
    "duration": 8,
    "start_time": "2024-04-19T17:43:44.617Z"
   },
   {
    "duration": 9,
    "start_time": "2024-04-19T17:43:44.676Z"
   },
   {
    "duration": 167,
    "start_time": "2024-04-19T17:43:44.772Z"
   },
   {
    "duration": 2,
    "start_time": "2024-04-19T17:43:44.941Z"
   },
   {
    "duration": 7,
    "start_time": "2024-04-19T17:43:45.204Z"
   },
   {
    "duration": 5,
    "start_time": "2024-04-19T17:43:45.261Z"
   },
   {
    "duration": 18,
    "start_time": "2024-04-19T17:43:45.569Z"
   },
   {
    "duration": 94,
    "start_time": "2024-04-19T17:43:45.725Z"
   },
   {
    "duration": 63,
    "start_time": "2024-04-19T17:43:45.937Z"
   },
   {
    "duration": 75,
    "start_time": "2024-04-19T17:43:46.057Z"
   },
   {
    "duration": 77,
    "start_time": "2024-04-19T17:43:46.134Z"
   },
   {
    "duration": 34,
    "start_time": "2024-04-19T17:43:46.214Z"
   },
   {
    "duration": 104,
    "start_time": "2024-04-19T17:43:46.434Z"
   },
   {
    "duration": 234,
    "start_time": "2024-04-19T17:43:46.618Z"
   },
   {
    "duration": 4,
    "start_time": "2024-04-19T17:43:46.854Z"
   },
   {
    "duration": 149,
    "start_time": "2024-04-19T17:43:46.860Z"
   },
   {
    "duration": 3,
    "start_time": "2024-04-19T17:43:47.011Z"
   },
   {
    "duration": 164,
    "start_time": "2024-04-19T17:43:47.072Z"
   },
   {
    "duration": 9,
    "start_time": "2024-04-19T17:43:47.263Z"
   },
   {
    "duration": 7,
    "start_time": "2024-04-19T17:43:47.354Z"
   },
   {
    "duration": 108,
    "start_time": "2024-04-19T17:43:49.198Z"
   },
   {
    "duration": 108,
    "start_time": "2024-04-19T17:43:49.676Z"
   },
   {
    "duration": 119,
    "start_time": "2024-04-19T17:43:49.907Z"
   },
   {
    "duration": 10,
    "start_time": "2024-04-19T17:43:50.621Z"
   },
   {
    "duration": 7,
    "start_time": "2024-04-19T17:43:51.024Z"
   },
   {
    "duration": 15,
    "start_time": "2024-04-19T17:43:51.312Z"
   },
   {
    "duration": 9,
    "start_time": "2024-04-19T17:43:51.772Z"
   },
   {
    "duration": 7,
    "start_time": "2024-04-19T17:43:52.135Z"
   },
   {
    "duration": 15,
    "start_time": "2024-04-19T17:43:52.254Z"
   },
   {
    "duration": 129,
    "start_time": "2024-04-19T17:44:18.867Z"
   },
   {
    "duration": 142,
    "start_time": "2024-04-19T17:44:24.328Z"
   },
   {
    "duration": 181,
    "start_time": "2024-04-19T17:44:30.294Z"
   },
   {
    "duration": 5,
    "start_time": "2024-04-19T17:44:31.842Z"
   },
   {
    "duration": 155,
    "start_time": "2024-04-19T17:44:38.121Z"
   },
   {
    "duration": 4,
    "start_time": "2024-04-19T17:44:39.800Z"
   },
   {
    "duration": 145,
    "start_time": "2024-04-19T17:48:55.103Z"
   },
   {
    "duration": 4,
    "start_time": "2024-04-19T17:48:57.583Z"
   },
   {
    "duration": 222,
    "start_time": "2024-04-19T17:49:25.551Z"
   },
   {
    "duration": 151,
    "start_time": "2024-04-19T17:49:34.777Z"
   },
   {
    "duration": 4,
    "start_time": "2024-04-19T17:49:38.359Z"
   },
   {
    "duration": 4,
    "start_time": "2024-04-19T17:49:46.264Z"
   },
   {
    "duration": 143,
    "start_time": "2024-04-19T17:50:59.158Z"
   },
   {
    "duration": 4,
    "start_time": "2024-04-19T17:51:02.485Z"
   },
   {
    "duration": 5,
    "start_time": "2024-04-19T17:51:09.008Z"
   },
   {
    "duration": 147,
    "start_time": "2024-04-19T17:51:46.751Z"
   },
   {
    "duration": 5,
    "start_time": "2024-04-19T17:51:54.590Z"
   },
   {
    "duration": 136,
    "start_time": "2024-04-19T17:52:08.574Z"
   },
   {
    "duration": 5,
    "start_time": "2024-04-19T17:52:16.846Z"
   },
   {
    "duration": 152,
    "start_time": "2024-04-19T17:52:47.573Z"
   },
   {
    "duration": 5,
    "start_time": "2024-04-19T17:52:49.426Z"
   },
   {
    "duration": 11,
    "start_time": "2024-04-19T17:52:55.831Z"
   },
   {
    "duration": 11,
    "start_time": "2024-04-19T17:53:00.548Z"
   },
   {
    "duration": 9,
    "start_time": "2024-04-19T17:53:04.795Z"
   },
   {
    "duration": 156,
    "start_time": "2024-04-19T17:53:13.467Z"
   },
   {
    "duration": 8,
    "start_time": "2024-04-19T17:53:14.520Z"
   },
   {
    "duration": 5,
    "start_time": "2024-04-19T17:53:24.243Z"
   },
   {
    "duration": 157,
    "start_time": "2024-04-19T17:53:55.944Z"
   },
   {
    "duration": 5,
    "start_time": "2024-04-19T17:54:02.564Z"
   },
   {
    "duration": 150,
    "start_time": "2024-04-19T17:55:13.251Z"
   },
   {
    "duration": 5,
    "start_time": "2024-04-19T17:55:20.452Z"
   },
   {
    "duration": 4,
    "start_time": "2024-04-19T17:55:25.399Z"
   },
   {
    "duration": 5,
    "start_time": "2024-04-19T17:55:41.118Z"
   },
   {
    "duration": 4,
    "start_time": "2024-04-19T17:56:14.750Z"
   },
   {
    "duration": 144,
    "start_time": "2024-04-19T17:57:52.191Z"
   },
   {
    "duration": 9,
    "start_time": "2024-04-19T17:58:04.765Z"
   },
   {
    "duration": 160,
    "start_time": "2024-04-19T18:01:03.646Z"
   },
   {
    "duration": 258,
    "start_time": "2024-04-19T18:01:10.212Z"
   },
   {
    "duration": 6,
    "start_time": "2024-04-19T18:01:41.699Z"
   },
   {
    "duration": 4,
    "start_time": "2024-04-19T18:01:43.022Z"
   },
   {
    "duration": 5,
    "start_time": "2024-04-19T18:01:56.261Z"
   },
   {
    "duration": 5,
    "start_time": "2024-04-19T18:02:37.587Z"
   },
   {
    "duration": 4,
    "start_time": "2024-04-19T18:02:38.508Z"
   },
   {
    "duration": 5,
    "start_time": "2024-04-19T18:02:45.568Z"
   },
   {
    "duration": 144,
    "start_time": "2024-04-19T18:03:44.146Z"
   },
   {
    "duration": 138,
    "start_time": "2024-04-19T18:04:01.895Z"
   },
   {
    "duration": 145,
    "start_time": "2024-04-19T18:04:43.797Z"
   },
   {
    "duration": 155,
    "start_time": "2024-04-19T18:04:49.415Z"
   },
   {
    "duration": 4,
    "start_time": "2024-04-19T18:05:15.672Z"
   },
   {
    "duration": 4,
    "start_time": "2024-04-19T18:05:21.304Z"
   },
   {
    "duration": 6,
    "start_time": "2024-04-19T18:05:47.483Z"
   },
   {
    "duration": 4,
    "start_time": "2024-04-19T18:05:50.633Z"
   },
   {
    "duration": 5,
    "start_time": "2024-04-19T18:05:51.267Z"
   },
   {
    "duration": 140,
    "start_time": "2024-04-19T18:06:21.364Z"
   },
   {
    "duration": 142,
    "start_time": "2024-04-19T18:06:21.842Z"
   },
   {
    "duration": 4,
    "start_time": "2024-04-19T18:06:23.321Z"
   },
   {
    "duration": 4,
    "start_time": "2024-04-19T18:06:24.146Z"
   },
   {
    "duration": 189,
    "start_time": "2024-04-19T18:06:25.487Z"
   },
   {
    "duration": 164,
    "start_time": "2024-04-19T18:06:26.360Z"
   },
   {
    "duration": 4,
    "start_time": "2024-04-19T18:06:27.680Z"
   },
   {
    "duration": 4,
    "start_time": "2024-04-19T18:06:28.567Z"
   },
   {
    "duration": 10,
    "start_time": "2024-04-19T18:13:21.353Z"
   },
   {
    "duration": 10,
    "start_time": "2024-04-19T18:13:24.938Z"
   },
   {
    "duration": 4,
    "start_time": "2024-04-19T18:13:25.600Z"
   },
   {
    "duration": 11,
    "start_time": "2024-04-19T18:13:31.848Z"
   },
   {
    "duration": 4,
    "start_time": "2024-04-19T18:13:32.486Z"
   },
   {
    "duration": 89,
    "start_time": "2024-04-19T19:17:26.998Z"
   },
   {
    "duration": 75,
    "start_time": "2024-04-19T19:17:52.434Z"
   },
   {
    "duration": 44,
    "start_time": "2024-04-19T19:19:57.757Z"
   },
   {
    "duration": 681,
    "start_time": "2024-04-19T19:20:05.056Z"
   },
   {
    "duration": 93,
    "start_time": "2024-04-19T19:20:05.739Z"
   },
   {
    "duration": 15,
    "start_time": "2024-04-19T19:20:05.833Z"
   },
   {
    "duration": 34,
    "start_time": "2024-04-19T19:20:05.851Z"
   },
   {
    "duration": 7,
    "start_time": "2024-04-19T19:20:05.886Z"
   },
   {
    "duration": 14,
    "start_time": "2024-04-19T19:20:05.895Z"
   },
   {
    "duration": 10,
    "start_time": "2024-04-19T19:20:05.962Z"
   },
   {
    "duration": 19,
    "start_time": "2024-04-19T19:20:06.119Z"
   },
   {
    "duration": 23,
    "start_time": "2024-04-19T19:20:06.206Z"
   },
   {
    "duration": 14,
    "start_time": "2024-04-19T19:20:06.268Z"
   },
   {
    "duration": 3,
    "start_time": "2024-04-19T19:20:06.429Z"
   },
   {
    "duration": 12,
    "start_time": "2024-04-19T19:20:06.671Z"
   },
   {
    "duration": 18,
    "start_time": "2024-04-19T19:20:06.773Z"
   },
   {
    "duration": 8,
    "start_time": "2024-04-19T19:20:06.875Z"
   },
   {
    "duration": 11,
    "start_time": "2024-04-19T19:20:06.943Z"
   },
   {
    "duration": 176,
    "start_time": "2024-04-19T19:20:07.034Z"
   },
   {
    "duration": 2,
    "start_time": "2024-04-19T19:20:07.212Z"
   },
   {
    "duration": 8,
    "start_time": "2024-04-19T19:20:07.453Z"
   },
   {
    "duration": 5,
    "start_time": "2024-04-19T19:20:07.530Z"
   },
   {
    "duration": 27,
    "start_time": "2024-04-19T19:20:07.826Z"
   },
   {
    "duration": 143,
    "start_time": "2024-04-19T19:20:07.985Z"
   },
   {
    "duration": 63,
    "start_time": "2024-04-19T19:20:08.203Z"
   },
   {
    "duration": 68,
    "start_time": "2024-04-19T19:20:08.332Z"
   },
   {
    "duration": 70,
    "start_time": "2024-04-19T19:20:08.402Z"
   },
   {
    "duration": 33,
    "start_time": "2024-04-19T19:20:08.489Z"
   },
   {
    "duration": 106,
    "start_time": "2024-04-19T19:20:08.697Z"
   },
   {
    "duration": 146,
    "start_time": "2024-04-19T19:20:08.890Z"
   },
   {
    "duration": 5,
    "start_time": "2024-04-19T19:20:09.038Z"
   },
   {
    "duration": 204,
    "start_time": "2024-04-19T19:20:10.175Z"
   },
   {
    "duration": 8,
    "start_time": "2024-04-19T19:20:10.505Z"
   },
   {
    "duration": 41,
    "start_time": "2024-04-19T19:20:11.614Z"
   },
   {
    "duration": 138,
    "start_time": "2024-04-19T19:20:11.686Z"
   },
   {
    "duration": 4,
    "start_time": "2024-04-19T19:20:11.826Z"
   },
   {
    "duration": 4,
    "start_time": "2024-04-19T19:20:11.857Z"
   },
   {
    "duration": 152,
    "start_time": "2024-04-19T19:20:12.101Z"
   },
   {
    "duration": 142,
    "start_time": "2024-04-19T19:20:12.437Z"
   },
   {
    "duration": 4,
    "start_time": "2024-04-19T19:20:12.934Z"
   },
   {
    "duration": 4,
    "start_time": "2024-04-19T19:20:13.442Z"
   },
   {
    "duration": 154,
    "start_time": "2024-04-19T19:20:14.173Z"
   },
   {
    "duration": 9,
    "start_time": "2024-04-19T19:20:15.008Z"
   },
   {
    "duration": 7,
    "start_time": "2024-04-19T19:20:15.390Z"
   },
   {
    "duration": 125,
    "start_time": "2024-04-19T19:20:23.958Z"
   },
   {
    "duration": 120,
    "start_time": "2024-04-19T19:20:24.425Z"
   },
   {
    "duration": 100,
    "start_time": "2024-04-19T19:20:24.742Z"
   },
   {
    "duration": 9,
    "start_time": "2024-04-19T19:20:25.509Z"
   },
   {
    "duration": 8,
    "start_time": "2024-04-19T19:20:25.783Z"
   },
   {
    "duration": 14,
    "start_time": "2024-04-19T19:20:26.326Z"
   },
   {
    "duration": 10,
    "start_time": "2024-04-19T19:20:26.459Z"
   },
   {
    "duration": 7,
    "start_time": "2024-04-19T19:20:26.715Z"
   },
   {
    "duration": 16,
    "start_time": "2024-04-19T19:20:26.817Z"
   },
   {
    "duration": 10,
    "start_time": "2024-04-19T19:20:27.778Z"
   },
   {
    "duration": 463,
    "start_time": "2024-04-19T19:20:28.295Z"
   },
   {
    "duration": 10,
    "start_time": "2024-04-19T19:20:29.394Z"
   },
   {
    "duration": 4,
    "start_time": "2024-04-19T19:20:29.624Z"
   },
   {
    "duration": 151,
    "start_time": "2024-04-19T19:22:51.663Z"
   },
   {
    "duration": 159,
    "start_time": "2024-04-19T19:23:22.248Z"
   },
   {
    "duration": 157,
    "start_time": "2024-04-19T19:23:30.226Z"
   },
   {
    "duration": 11,
    "start_time": "2024-04-19T19:26:36.742Z"
   },
   {
    "duration": 162,
    "start_time": "2024-04-19T19:27:43.598Z"
   },
   {
    "duration": 149,
    "start_time": "2024-04-19T19:28:01.884Z"
   },
   {
    "duration": 145,
    "start_time": "2024-04-19T19:28:09.594Z"
   },
   {
    "duration": 189,
    "start_time": "2024-04-19T19:28:16.310Z"
   },
   {
    "duration": 44,
    "start_time": "2024-04-19T19:28:34.095Z"
   },
   {
    "duration": 180,
    "start_time": "2024-04-19T19:28:37.056Z"
   },
   {
    "duration": 1778,
    "start_time": "2024-04-19T19:31:52.670Z"
   },
   {
    "duration": 1377,
    "start_time": "2024-04-19T19:32:11.115Z"
   },
   {
    "duration": 150,
    "start_time": "2024-04-19T19:32:43.438Z"
   },
   {
    "duration": 129,
    "start_time": "2024-04-19T19:33:19.305Z"
   },
   {
    "duration": 118,
    "start_time": "2024-04-19T19:33:32.916Z"
   },
   {
    "duration": 156,
    "start_time": "2024-04-19T19:33:38.659Z"
   },
   {
    "duration": 24,
    "start_time": "2024-04-19T19:33:44.706Z"
   },
   {
    "duration": 159,
    "start_time": "2024-04-19T19:33:49.651Z"
   },
   {
    "duration": 167,
    "start_time": "2024-04-19T19:35:24.418Z"
   },
   {
    "duration": 161,
    "start_time": "2024-04-19T19:35:35.755Z"
   },
   {
    "duration": 79,
    "start_time": "2024-04-19T19:36:15.344Z"
   },
   {
    "duration": 76,
    "start_time": "2024-04-19T19:36:21.752Z"
   },
   {
    "duration": 81,
    "start_time": "2024-04-19T19:36:46.079Z"
   },
   {
    "duration": 64,
    "start_time": "2024-04-19T19:36:49.527Z"
   },
   {
    "duration": 159,
    "start_time": "2024-04-19T19:37:03.774Z"
   },
   {
    "duration": 60,
    "start_time": "2024-04-19T19:38:43.778Z"
   },
   {
    "duration": 114,
    "start_time": "2024-04-19T19:40:10.672Z"
   },
   {
    "duration": 119,
    "start_time": "2024-04-19T19:40:15.486Z"
   },
   {
    "duration": 112,
    "start_time": "2024-04-19T19:40:24.001Z"
   },
   {
    "duration": 202,
    "start_time": "2024-04-19T19:41:05.741Z"
   },
   {
    "duration": 120,
    "start_time": "2024-04-19T19:42:21.304Z"
   },
   {
    "duration": 126,
    "start_time": "2024-04-19T19:43:10.562Z"
   },
   {
    "duration": 133,
    "start_time": "2024-04-19T19:43:33.795Z"
   },
   {
    "duration": 156,
    "start_time": "2024-04-19T19:44:27.306Z"
   },
   {
    "duration": 419,
    "start_time": "2024-04-19T19:44:37.133Z"
   },
   {
    "duration": 660,
    "start_time": "2024-04-19T19:44:53.545Z"
   },
   {
    "duration": 487,
    "start_time": "2024-04-19T19:45:16.770Z"
   },
   {
    "duration": 488,
    "start_time": "2024-04-19T19:45:24.051Z"
   },
   {
    "duration": 606,
    "start_time": "2024-04-20T08:58:36.149Z"
   },
   {
    "duration": 79,
    "start_time": "2024-04-20T08:58:36.757Z"
   },
   {
    "duration": 14,
    "start_time": "2024-04-20T08:58:36.837Z"
   },
   {
    "duration": 16,
    "start_time": "2024-04-20T08:58:36.853Z"
   },
   {
    "duration": 2,
    "start_time": "2024-04-20T08:58:36.870Z"
   },
   {
    "duration": 5,
    "start_time": "2024-04-20T08:58:36.874Z"
   },
   {
    "duration": 9,
    "start_time": "2024-04-20T08:58:36.881Z"
   },
   {
    "duration": 14,
    "start_time": "2024-04-20T08:58:36.891Z"
   },
   {
    "duration": 45,
    "start_time": "2024-04-20T08:58:36.906Z"
   },
   {
    "duration": 17,
    "start_time": "2024-04-20T08:58:36.954Z"
   },
   {
    "duration": 2,
    "start_time": "2024-04-20T08:58:36.973Z"
   },
   {
    "duration": 11,
    "start_time": "2024-04-20T08:58:36.976Z"
   },
   {
    "duration": 17,
    "start_time": "2024-04-20T08:58:36.988Z"
   },
   {
    "duration": 6,
    "start_time": "2024-04-20T08:58:37.006Z"
   },
   {
    "duration": 31,
    "start_time": "2024-04-20T08:58:37.014Z"
   },
   {
    "duration": 157,
    "start_time": "2024-04-20T08:58:37.046Z"
   },
   {
    "duration": 2,
    "start_time": "2024-04-20T08:58:37.205Z"
   },
   {
    "duration": 9,
    "start_time": "2024-04-20T08:58:37.208Z"
   },
   {
    "duration": 4,
    "start_time": "2024-04-20T08:58:37.219Z"
   },
   {
    "duration": 38,
    "start_time": "2024-04-20T08:58:37.224Z"
   },
   {
    "duration": 163,
    "start_time": "2024-04-20T08:58:37.263Z"
   },
   {
    "duration": 180,
    "start_time": "2024-04-20T08:58:37.427Z"
   },
   {
    "duration": 74,
    "start_time": "2024-04-20T08:58:37.609Z"
   },
   {
    "duration": 124,
    "start_time": "2024-04-20T08:58:37.684Z"
   },
   {
    "duration": 37,
    "start_time": "2024-04-20T08:58:37.809Z"
   },
   {
    "duration": 417,
    "start_time": "2024-04-20T08:58:37.847Z"
   },
   {
    "duration": 144,
    "start_time": "2024-04-20T08:58:38.265Z"
   },
   {
    "duration": 3,
    "start_time": "2024-04-20T08:58:38.413Z"
   },
   {
    "duration": 132,
    "start_time": "2024-04-20T08:58:38.418Z"
   },
   {
    "duration": 4,
    "start_time": "2024-04-20T08:58:38.551Z"
   },
   {
    "duration": 66,
    "start_time": "2024-04-20T08:58:38.556Z"
   },
   {
    "duration": 0,
    "start_time": "2024-04-20T08:58:38.624Z"
   },
   {
    "duration": 0,
    "start_time": "2024-04-20T08:58:38.625Z"
   },
   {
    "duration": 0,
    "start_time": "2024-04-20T08:58:38.645Z"
   },
   {
    "duration": 0,
    "start_time": "2024-04-20T08:58:38.646Z"
   },
   {
    "duration": 0,
    "start_time": "2024-04-20T08:58:38.648Z"
   },
   {
    "duration": 0,
    "start_time": "2024-04-20T08:58:38.649Z"
   },
   {
    "duration": 0,
    "start_time": "2024-04-20T08:58:38.651Z"
   },
   {
    "duration": 0,
    "start_time": "2024-04-20T08:58:38.652Z"
   },
   {
    "duration": 0,
    "start_time": "2024-04-20T08:58:38.653Z"
   },
   {
    "duration": 0,
    "start_time": "2024-04-20T08:58:38.654Z"
   },
   {
    "duration": 0,
    "start_time": "2024-04-20T08:58:38.656Z"
   },
   {
    "duration": 0,
    "start_time": "2024-04-20T08:58:38.657Z"
   },
   {
    "duration": 0,
    "start_time": "2024-04-20T08:58:38.658Z"
   },
   {
    "duration": 0,
    "start_time": "2024-04-20T08:58:38.660Z"
   },
   {
    "duration": 0,
    "start_time": "2024-04-20T08:58:38.662Z"
   },
   {
    "duration": 0,
    "start_time": "2024-04-20T08:58:38.663Z"
   },
   {
    "duration": 0,
    "start_time": "2024-04-20T08:58:38.664Z"
   },
   {
    "duration": 0,
    "start_time": "2024-04-20T08:58:38.665Z"
   },
   {
    "duration": 0,
    "start_time": "2024-04-20T08:58:38.667Z"
   },
   {
    "duration": 1,
    "start_time": "2024-04-20T08:58:38.668Z"
   },
   {
    "duration": 0,
    "start_time": "2024-04-20T08:58:38.670Z"
   },
   {
    "duration": 0,
    "start_time": "2024-04-20T08:58:38.671Z"
   },
   {
    "duration": 0,
    "start_time": "2024-04-20T08:58:38.673Z"
   },
   {
    "duration": 129,
    "start_time": "2024-04-20T08:59:25.409Z"
   },
   {
    "duration": 118,
    "start_time": "2024-04-20T08:59:30.372Z"
   },
   {
    "duration": 4,
    "start_time": "2024-04-20T08:59:35.713Z"
   },
   {
    "duration": 16,
    "start_time": "2024-04-20T08:59:35.719Z"
   },
   {
    "duration": 145,
    "start_time": "2024-04-20T08:59:35.736Z"
   },
   {
    "duration": 146,
    "start_time": "2024-04-20T08:59:35.883Z"
   },
   {
    "duration": 4,
    "start_time": "2024-04-20T08:59:36.031Z"
   },
   {
    "duration": 12,
    "start_time": "2024-04-20T08:59:36.036Z"
   },
   {
    "duration": 175,
    "start_time": "2024-04-20T08:59:36.050Z"
   },
   {
    "duration": 20,
    "start_time": "2024-04-20T08:59:36.227Z"
   },
   {
    "duration": 13,
    "start_time": "2024-04-20T08:59:36.248Z"
   },
   {
    "duration": 162,
    "start_time": "2024-04-20T08:59:36.262Z"
   },
   {
    "duration": 107,
    "start_time": "2024-04-20T08:59:36.427Z"
   },
   {
    "duration": 91,
    "start_time": "2024-04-20T08:59:36.536Z"
   },
   {
    "duration": 20,
    "start_time": "2024-04-20T08:59:36.629Z"
   },
   {
    "duration": 15,
    "start_time": "2024-04-20T08:59:36.651Z"
   },
   {
    "duration": 16,
    "start_time": "2024-04-20T08:59:36.668Z"
   },
   {
    "duration": 30,
    "start_time": "2024-04-20T08:59:36.686Z"
   },
   {
    "duration": 8,
    "start_time": "2024-04-20T08:59:36.718Z"
   },
   {
    "duration": 32,
    "start_time": "2024-04-20T08:59:36.728Z"
   },
   {
    "duration": 12,
    "start_time": "2024-04-20T08:59:36.762Z"
   },
   {
    "duration": 394,
    "start_time": "2024-04-20T08:59:36.776Z"
   },
   {
    "duration": 9,
    "start_time": "2024-04-20T08:59:37.172Z"
   },
   {
    "duration": 4,
    "start_time": "2024-04-20T08:59:37.182Z"
   },
   {
    "duration": 43,
    "start_time": "2024-04-20T17:46:48.493Z"
   },
   {
    "duration": 724,
    "start_time": "2024-04-20T17:46:59.728Z"
   },
   {
    "duration": 124,
    "start_time": "2024-04-20T17:47:00.453Z"
   },
   {
    "duration": 13,
    "start_time": "2024-04-20T17:47:00.578Z"
   },
   {
    "duration": 44,
    "start_time": "2024-04-20T17:47:00.592Z"
   },
   {
    "duration": 32,
    "start_time": "2024-04-20T17:47:00.637Z"
   },
   {
    "duration": 32,
    "start_time": "2024-04-20T17:47:00.670Z"
   },
   {
    "duration": 38,
    "start_time": "2024-04-20T17:47:00.703Z"
   },
   {
    "duration": 14,
    "start_time": "2024-04-20T17:47:00.808Z"
   },
   {
    "duration": 26,
    "start_time": "2024-04-20T17:47:00.877Z"
   },
   {
    "duration": 22,
    "start_time": "2024-04-20T17:47:00.942Z"
   },
   {
    "duration": 2,
    "start_time": "2024-04-20T17:47:01.089Z"
   },
   {
    "duration": 10,
    "start_time": "2024-04-20T17:47:01.384Z"
   },
   {
    "duration": 89,
    "start_time": "2024-04-20T17:47:01.477Z"
   },
   {
    "duration": 97,
    "start_time": "2024-04-20T17:47:01.579Z"
   },
   {
    "duration": 63,
    "start_time": "2024-04-20T17:47:01.677Z"
   },
   {
    "duration": 177,
    "start_time": "2024-04-20T17:47:01.741Z"
   },
   {
    "duration": 2,
    "start_time": "2024-04-20T17:47:01.919Z"
   },
   {
    "duration": 6,
    "start_time": "2024-04-20T17:47:02.175Z"
   },
   {
    "duration": 4,
    "start_time": "2024-04-20T17:47:02.250Z"
   },
   {
    "duration": 15,
    "start_time": "2024-04-20T17:47:02.548Z"
   },
   {
    "duration": 136,
    "start_time": "2024-04-20T17:47:02.705Z"
   },
   {
    "duration": 164,
    "start_time": "2024-04-20T17:47:03.012Z"
   },
   {
    "duration": 54,
    "start_time": "2024-04-20T17:47:03.299Z"
   },
   {
    "duration": 61,
    "start_time": "2024-04-20T17:47:03.355Z"
   },
   {
    "duration": 27,
    "start_time": "2024-04-20T17:47:03.468Z"
   },
   {
    "duration": 409,
    "start_time": "2024-04-20T17:47:03.692Z"
   },
   {
    "duration": 121,
    "start_time": "2024-04-20T17:47:04.103Z"
   },
   {
    "duration": 4,
    "start_time": "2024-04-20T17:47:04.225Z"
   },
   {
    "duration": 115,
    "start_time": "2024-04-20T17:47:04.260Z"
   },
   {
    "duration": 3,
    "start_time": "2024-04-20T17:47:04.376Z"
   },
   {
    "duration": 115,
    "start_time": "2024-04-20T17:47:04.647Z"
   },
   {
    "duration": 113,
    "start_time": "2024-04-20T17:47:04.764Z"
   },
   {
    "duration": 4,
    "start_time": "2024-04-20T17:47:04.879Z"
   },
   {
    "duration": 5,
    "start_time": "2024-04-20T17:47:04.884Z"
   },
   {
    "duration": 115,
    "start_time": "2024-04-20T17:47:05.017Z"
   },
   {
    "duration": 116,
    "start_time": "2024-04-20T17:47:05.134Z"
   },
   {
    "duration": 3,
    "start_time": "2024-04-20T17:47:05.252Z"
   },
   {
    "duration": 11,
    "start_time": "2024-04-20T17:47:05.257Z"
   },
   {
    "duration": 110,
    "start_time": "2024-04-20T17:47:05.357Z"
   },
   {
    "duration": 8,
    "start_time": "2024-04-20T17:47:05.608Z"
   },
   {
    "duration": 6,
    "start_time": "2024-04-20T17:47:05.704Z"
   },
   {
    "duration": 109,
    "start_time": "2024-04-20T17:47:05.793Z"
   },
   {
    "duration": 133,
    "start_time": "2024-04-20T17:47:05.913Z"
   },
   {
    "duration": 81,
    "start_time": "2024-04-20T17:47:06.048Z"
   },
   {
    "duration": 8,
    "start_time": "2024-04-20T17:47:06.130Z"
   },
   {
    "duration": 6,
    "start_time": "2024-04-20T17:47:06.160Z"
   },
   {
    "duration": 13,
    "start_time": "2024-04-20T17:47:06.220Z"
   },
   {
    "duration": 7,
    "start_time": "2024-04-20T17:47:06.346Z"
   },
   {
    "duration": 6,
    "start_time": "2024-04-20T17:47:06.486Z"
   },
   {
    "duration": 12,
    "start_time": "2024-04-20T17:47:06.522Z"
   },
   {
    "duration": 8,
    "start_time": "2024-04-20T17:47:07.566Z"
   },
   {
    "duration": 393,
    "start_time": "2024-04-20T17:47:08.169Z"
   },
   {
    "duration": 8,
    "start_time": "2024-04-20T17:47:09.066Z"
   },
   {
    "duration": 3,
    "start_time": "2024-04-20T17:47:09.611Z"
   },
   {
    "duration": 112,
    "start_time": "2024-04-20T17:49:18.689Z"
   },
   {
    "duration": 4,
    "start_time": "2024-04-20T17:49:22.145Z"
   },
   {
    "duration": 1207,
    "start_time": "2024-04-20T17:54:21.414Z"
   },
   {
    "duration": 1115,
    "start_time": "2024-04-20T17:54:41.911Z"
   },
   {
    "duration": 1092,
    "start_time": "2024-04-20T17:54:50.383Z"
   },
   {
    "duration": 1137,
    "start_time": "2024-04-20T17:55:32.536Z"
   },
   {
    "duration": 11,
    "start_time": "2024-04-20T17:55:55.277Z"
   },
   {
    "duration": 9,
    "start_time": "2024-04-20T17:56:11.460Z"
   },
   {
    "duration": 4,
    "start_time": "2024-04-20T17:58:32.973Z"
   },
   {
    "duration": 4,
    "start_time": "2024-04-20T17:58:38.927Z"
   },
   {
    "duration": 11,
    "start_time": "2024-04-20T17:59:15.748Z"
   },
   {
    "duration": 6,
    "start_time": "2024-04-20T17:59:17.787Z"
   },
   {
    "duration": 4,
    "start_time": "2024-04-20T17:59:18.649Z"
   },
   {
    "duration": 12,
    "start_time": "2024-04-20T17:59:25.381Z"
   },
   {
    "duration": 14,
    "start_time": "2024-04-20T18:00:00.616Z"
   },
   {
    "duration": 11,
    "start_time": "2024-04-20T18:00:11.104Z"
   },
   {
    "duration": 13,
    "start_time": "2024-04-20T18:00:15.413Z"
   },
   {
    "duration": 124,
    "start_time": "2024-04-20T18:02:46.169Z"
   },
   {
    "duration": 218,
    "start_time": "2024-04-20T18:02:53.350Z"
   },
   {
    "duration": 225,
    "start_time": "2024-04-20T18:03:01.286Z"
   },
   {
    "duration": 210,
    "start_time": "2024-04-20T18:03:29.891Z"
   },
   {
    "duration": 47,
    "start_time": "2024-04-20T18:04:12.806Z"
   },
   {
    "duration": 71,
    "start_time": "2024-04-20T18:04:37.614Z"
   },
   {
    "duration": 270,
    "start_time": "2024-04-20T18:04:54.498Z"
   },
   {
    "duration": 13,
    "start_time": "2024-04-20T18:06:27.190Z"
   },
   {
    "duration": 251,
    "start_time": "2024-04-20T18:06:29.057Z"
   },
   {
    "duration": 10,
    "start_time": "2024-04-20T18:06:43.473Z"
   },
   {
    "duration": 2,
    "start_time": "2024-04-20T18:06:43.833Z"
   },
   {
    "duration": 12,
    "start_time": "2024-04-20T18:06:44.089Z"
   },
   {
    "duration": 9,
    "start_time": "2024-04-20T18:06:49.692Z"
   },
   {
    "duration": 2,
    "start_time": "2024-04-20T18:06:49.970Z"
   },
   {
    "duration": 12,
    "start_time": "2024-04-20T18:06:50.209Z"
   },
   {
    "duration": 229,
    "start_time": "2024-04-20T18:06:50.441Z"
   },
   {
    "duration": 9,
    "start_time": "2024-04-20T18:07:00.831Z"
   },
   {
    "duration": 14,
    "start_time": "2024-04-20T18:07:19.172Z"
   },
   {
    "duration": 10,
    "start_time": "2024-04-20T18:07:23.488Z"
   },
   {
    "duration": 11,
    "start_time": "2024-04-20T18:07:31.355Z"
   },
   {
    "duration": 14,
    "start_time": "2024-04-20T18:07:58.367Z"
   },
   {
    "duration": 234,
    "start_time": "2024-04-20T18:07:59.074Z"
   },
   {
    "duration": 73,
    "start_time": "2024-04-20T18:09:18.354Z"
   },
   {
    "duration": 4,
    "start_time": "2024-04-20T18:11:29.747Z"
   },
   {
    "duration": 4,
    "start_time": "2024-04-20T18:11:37.666Z"
   },
   {
    "duration": 3,
    "start_time": "2024-04-20T18:11:43.668Z"
   },
   {
    "duration": 3,
    "start_time": "2024-04-20T18:11:47.001Z"
   },
   {
    "duration": 5,
    "start_time": "2024-04-20T18:13:08.545Z"
   },
   {
    "duration": 8,
    "start_time": "2024-04-20T18:14:12.646Z"
   },
   {
    "duration": 6,
    "start_time": "2024-04-20T18:14:26.591Z"
   },
   {
    "duration": 7,
    "start_time": "2024-04-20T18:16:01.478Z"
   },
   {
    "duration": 143,
    "start_time": "2024-04-20T18:16:09.946Z"
   },
   {
    "duration": 8,
    "start_time": "2024-04-20T18:16:33.592Z"
   },
   {
    "duration": 9,
    "start_time": "2024-04-20T18:17:13.113Z"
   },
   {
    "duration": 7,
    "start_time": "2024-04-20T18:17:28.219Z"
   },
   {
    "duration": 7,
    "start_time": "2024-04-20T18:17:28.592Z"
   },
   {
    "duration": 145,
    "start_time": "2024-04-20T18:17:29.186Z"
   },
   {
    "duration": 150,
    "start_time": "2024-04-20T18:17:42.532Z"
   },
   {
    "duration": 138,
    "start_time": "2024-04-20T18:17:53.456Z"
   },
   {
    "duration": 203,
    "start_time": "2024-04-20T18:17:56.428Z"
   },
   {
    "duration": 2,
    "start_time": "2024-04-20T18:18:19.074Z"
   },
   {
    "duration": 2,
    "start_time": "2024-04-20T18:18:50.759Z"
   },
   {
    "duration": 138,
    "start_time": "2024-04-20T18:20:12.671Z"
   }
  ],
  "kernelspec": {
   "display_name": "Python 3 (ipykernel)",
   "language": "python",
   "name": "python3"
  },
  "language_info": {
   "codemirror_mode": {
    "name": "ipython",
    "version": 3
   },
   "file_extension": ".py",
   "mimetype": "text/x-python",
   "name": "python",
   "nbconvert_exporter": "python",
   "pygments_lexer": "ipython3",
   "version": "3.11.5"
  },
  "toc": {
   "base_numbering": 1,
   "nav_menu": {},
   "number_sections": true,
   "sideBar": true,
   "skip_h1_title": false,
   "title_cell": "Table of Contents",
   "title_sidebar": "Contents",
   "toc_cell": false,
   "toc_position": {
    "height": "calc(100% - 180px)",
    "left": "10px",
    "top": "150px",
    "width": "409.188px"
   },
   "toc_section_display": true,
   "toc_window_display": false
  }
 },
 "nbformat": 4,
 "nbformat_minor": 5
}
